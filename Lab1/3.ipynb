{
 "cells": [
  {
   "cell_type": "code",
   "execution_count": 337,
   "id": "f69aacab",
   "metadata": {},
   "outputs": [],
   "source": [
    "import random\n",
    "import numpy as np\n",
    "import pandas as pd\n",
    "import matplotlib.pyplot as plt"
   ]
  },
  {
   "cell_type": "code",
   "execution_count": 355,
   "id": "262abeb4",
   "metadata": {},
   "outputs": [],
   "source": [
    "def getRandom(value, percentOfError):\n",
    "    l = value - value * percentOfError\n",
    "    r = value + value * percentOfError\n",
    "    return random.uniform(l, r)\n",
    "\n",
    "# Original\n",
    "def f(x):\n",
    "    return x\n",
    "\n",
    "# Predicted\n",
    "def g(x):\n",
    "    return getRandom(f(x), 0.2)"
   ]
  },
  {
   "cell_type": "code",
   "execution_count": 356,
   "id": "4b675ef6",
   "metadata": {},
   "outputs": [],
   "source": [
    "N = 20\n",
    "x = np.linspace(0, 100, N)\n",
    "y_origin_f = list(map(f, np.linspace(0, 100, N)))\n",
    "y_predicted = list(map(g, np.linspace(0, 100, N)))"
   ]
  },
  {
   "cell_type": "code",
   "execution_count": 357,
   "id": "eb38673b",
   "metadata": {
    "scrolled": false
   },
   "outputs": [
    {
     "data": {
      "image/png": "[encoded data removed]",
      "text/plain": [
       "<Figure size 432x288 with 1 Axes>"
      ]
     },
     "metadata": {
      "needs_background": "light"
     },
     "output_type": "display_data"
    }
   ],
   "source": [
    "plt.title('Comparing')\n",
    "plt.plot(x, y_origin_f, 'b--', label='original')\n",
    "plt.plot(x, y_predicted, 'r', label='predicted')\n",
    "plt.legend()\n",
    "plt.show()"
   ]
  },
  {
   "cell_type": "code",
   "execution_count": 358,
   "id": "aa424df5",
   "metadata": {},
   "outputs": [],
   "source": [
    "#  MAE = (1 / N) * sum([abs(y2[i] - y1[i]) for i in range(N)])\n",
    "# MSE = (1 / N) * sum([(y2[i] - y1[i]) ** 2 for i in range(N)])\n",
    "\n",
    "e1 = np.square(np.subtract(y_origin_f, y_predicted))\n",
    "# MSE = e1.mean()\n",
    "\n",
    "e2 = np.abs(np.subtract(y_origin_f, y_predicted))\n",
    "# MAE = e2.sum() / N"
   ]
  },
  {
   "cell_type": "code",
   "execution_count": 347,
   "id": "ae2f6546",
   "metadata": {},
   "outputs": [
    {
     "name": "stdout",
     "output_type": "stream",
     "text": [
      "             X           Y       Y_hat         MSE        MAE\n",
      "0     0.000000    0.000000    0.000000    0.000000   0.000000\n",
      "1     5.263158    5.109429    5.263158    0.023633   0.153729\n",
      "2    10.526316    8.725587   10.526316    3.242624   1.800729\n",
      "3    15.789474   14.083101   15.789474    2.911706   1.706372\n",
      "4    21.052632   18.589747   21.052632    6.065801   2.462885\n",
      "5    26.315789   28.917930   26.315789    6.771133   2.602140\n",
      "6    31.578947   35.222311   31.578947   13.274101   3.643364\n",
      "7    36.842105   36.195883   36.842105    0.417603   0.646222\n",
      "8    42.105263   38.655073   42.105263   11.903809   3.450190\n",
      "9    47.368421   47.509306   47.368421    0.019848   0.140884\n",
      "10   52.631579   53.555029   52.631579    0.852760   0.923450\n",
      "11   57.894737   48.889390   57.894737   81.096268   9.005347\n",
      "12   63.157895   75.158857   63.157895  144.023105  12.000963\n",
      "13   68.421053   60.185291   68.421053   67.827776   8.235762\n",
      "14   73.684211   72.836322   73.684211    0.718915   0.847888\n",
      "15   78.947368   78.433169   78.947368    0.264401   0.514199\n",
      "16   84.210526  100.584943   84.210526  268.121506  16.374416\n",
      "17   89.473684   84.624107   89.473684   23.518400   4.849577\n",
      "18   94.736842   77.639738   94.736842  292.310975  17.097104\n",
      "19  100.000000   80.585628  100.000000  376.917824  19.414372\n"
     ]
    }
   ],
   "source": [
    "df = pd.DataFrame({\n",
    "    'X': x,\n",
    "    'Y': y_predicted,\n",
    "    'Y_hat': y_origin_f,\n",
    "    'MSE': e1,\n",
    "    'MAE': e2\n",
    "})\n",
    "\n",
    "print(df)"
   ]
  },
  {
   "cell_type": "code",
   "execution_count": 239,
   "id": "afecc3a6",
   "metadata": {},
   "outputs": [],
   "source": [
    "df.to_csv('data.csv')"
   ]
  }
 ],
 "metadata": {
  "kernelspec": {
   "display_name": "Python 3 (ipykernel)",
   "language": "python",
   "name": "python3"
  },
  "language_info": {
   "codemirror_mode": {
    "name": "ipython",
    "version": 3
   },
   "file_extension": ".py",
   "mimetype": "text/x-python",
   "name": "python",
   "nbconvert_exporter": "python",
   "pygments_lexer": "ipython3",
   "version": "3.9.6"
  }
 },
 "nbformat": 4,
 "nbformat_minor": 5
}
