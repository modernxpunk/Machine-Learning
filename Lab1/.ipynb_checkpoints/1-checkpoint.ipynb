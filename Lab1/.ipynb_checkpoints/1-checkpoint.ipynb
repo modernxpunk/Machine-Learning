{
 "cells": [
  {
   "cell_type": "code",
   "execution_count": 1,
   "id": "0e0e5a46",
   "metadata": {
    "slideshow": {
     "slide_type": "slide"
    }
   },
   "outputs": [],
   "source": [
    "import numpy as np\n",
    "import pandas as pd\n",
    "import matplotlib.pyplot as plt"
   ]
  },
  {
   "cell_type": "code",
   "execution_count": 95,
   "id": "c76467f4",
   "metadata": {},
   "outputs": [],
   "source": [
    "# NumPy CRUD (vector, matrix, scalar) with arange random\n",
    "\n",
    "class NumpyObject:\n",
    "    def __init__(self, arr=np.array([])):\n",
    "        self.arr = np.array(arr)\n",
    "        \n",
    "    def generateWithRandom(self, size, low=0, high=100):\n",
    "        if size < 0:\n",
    "            raise Exception('Array size must be non negative size')\n",
    "        self.arr = np.random.randint(low, high=high, size=size)\n",
    "        \n",
    "    def generate(self, start, stop, step):\n",
    "        self.arr = np.arange(start, stop, step)\n",
    "    \n",
    "    def __len__(self):\n",
    "        return self.arr.size\n",
    "    \n",
    "    def __add__(self, arg):\n",
    "        return self.arr + arg.arr\n",
    "    \n",
    "    def  __sub__(self, arg):\n",
    "        return self.arr - arg.arr\n",
    "    \n",
    "    def __mul__(self, arg):\n",
    "        return self.arr * arg.arr\n",
    "    \n",
    "    def __truediv__(self, arg):\n",
    "        return self.arr / arg.arr\n",
    "    \n",
    "    def __floordiv__(self, arg):\n",
    "        return self.arr // arg.arr\n",
    "    \n",
    "    def dot(self, b):\n",
    "        return self.arr & b.arr\n",
    "    \n",
    "    def __str__(self):\n",
    "        return str(self.arr)\n",
    "    \n",
    "def allOperation(x, y):\n",
    "    print('Operation:')\n",
    "    print('1. {}  +   {}  =  {}'.format(x, y, x + y))\n",
    "    print('2. {}  -   {}  =  {}'.format(x, y, x - y))\n",
    "    print('3. {}  /   {}  =  {}'.format(x, y, x / y))\n",
    "    print('4. {}  //  {}  =  {}'.format(x, y, x // y))\n",
    "    print('5. {}  &   {}  =  {}'.format(x, y, x.dot(y)))"
   ]
  },
  {
   "cell_type": "code",
   "execution_count": 96,
   "id": "10ae195b",
   "metadata": {},
   "outputs": [
    {
     "name": "stdout",
     "output_type": "stream",
     "text": [
      "Operation:\n",
      "1. [1 2 3]  +   [4 5 6]  =  [5 7 9]\n",
      "2. [1 2 3]  -   [4 5 6]  =  [-3 -3 -3]\n",
      "3. [1 2 3]  /   [4 5 6]  =  [0.25 0.4  0.5 ]\n",
      "4. [1 2 3]  //  [4 5 6]  =  [0 0 0]\n",
      "5. [1 2 3]  &   [4 5 6]  =  [0 0 2]\n"
     ]
    }
   ],
   "source": [
    "x = NumpyObject([1, 2, 3])\n",
    "y = NumpyObject([4, 5, 6])\n",
    "\n",
    "allOperation(x, y)"
   ]
  },
  {
   "cell_type": "code",
   "execution_count": 97,
   "id": "9f3a8de5",
   "metadata": {},
   "outputs": [
    {
     "name": "stdout",
     "output_type": "stream",
     "text": [
      "Operation:\n",
      "1. 1  +   [1 2 3]  =  [2 3 4]\n",
      "2. 1  -   [1 2 3]  =  [ 0 -1 -2]\n",
      "3. 1  /   [1 2 3]  =  [1.         0.5        0.33333333]\n",
      "4. 1  //  [1 2 3]  =  [1 0 0]\n",
      "5. 1  &   [1 2 3]  =  [1 0 1]\n"
     ]
    }
   ],
   "source": [
    "x = NumpyObject(1)\n",
    "y = NumpyObject([1, 2, 3])\n",
    "\n",
    "allOperation(x, y)"
   ]
  },
  {
   "cell_type": "code",
   "execution_count": 98,
   "id": "d283160f",
   "metadata": {},
   "outputs": [
    {
     "name": "stdout",
     "output_type": "stream",
     "text": [
      "Operation:\n",
      "1. 10  +   [[1 2 3]\n",
      " [4 5 6]\n",
      " [7 8 9]]  =  [[11 12 13]\n",
      " [14 15 16]\n",
      " [17 18 19]]\n",
      "2. 10  -   [[1 2 3]\n",
      " [4 5 6]\n",
      " [7 8 9]]  =  [[9 8 7]\n",
      " [6 5 4]\n",
      " [3 2 1]]\n",
      "3. 10  /   [[1 2 3]\n",
      " [4 5 6]\n",
      " [7 8 9]]  =  [[10.          5.          3.33333333]\n",
      " [ 2.5         2.          1.66666667]\n",
      " [ 1.42857143  1.25        1.11111111]]\n",
      "4. 10  //  [[1 2 3]\n",
      " [4 5 6]\n",
      " [7 8 9]]  =  [[10  5  3]\n",
      " [ 2  2  1]\n",
      " [ 1  1  1]]\n",
      "5. 10  &   [[1 2 3]\n",
      " [4 5 6]\n",
      " [7 8 9]]  =  [[0 2 2]\n",
      " [0 0 2]\n",
      " [2 8 8]]\n"
     ]
    }
   ],
   "source": [
    "x = NumpyObject(10)\n",
    "y = NumpyObject([\n",
    "    [1, 2, 3],\n",
    "    [4, 5, 6],\n",
    "    [7, 8, 9]\n",
    "])\n",
    "\n",
    "allOperation(x, y)"
   ]
  },
  {
   "cell_type": "code",
   "execution_count": 99,
   "id": "dad3afb3",
   "metadata": {},
   "outputs": [
    {
     "name": "stdout",
     "output_type": "stream",
     "text": [
      "Operation:\n",
      "1. [[1 2 3]]  +   [[1 2 3]\n",
      " [4 5 6]\n",
      " [7 8 9]]  =  [[ 2  4  6]\n",
      " [ 5  7  9]\n",
      " [ 8 10 12]]\n",
      "2. [[1 2 3]]  -   [[1 2 3]\n",
      " [4 5 6]\n",
      " [7 8 9]]  =  [[ 0  0  0]\n",
      " [-3 -3 -3]\n",
      " [-6 -6 -6]]\n",
      "3. [[1 2 3]]  /   [[1 2 3]\n",
      " [4 5 6]\n",
      " [7 8 9]]  =  [[1.         1.         1.        ]\n",
      " [0.25       0.4        0.5       ]\n",
      " [0.14285714 0.25       0.33333333]]\n",
      "4. [[1 2 3]]  //  [[1 2 3]\n",
      " [4 5 6]\n",
      " [7 8 9]]  =  [[1 1 1]\n",
      " [0 0 0]\n",
      " [0 0 0]]\n",
      "5. [[1 2 3]]  &   [[1 2 3]\n",
      " [4 5 6]\n",
      " [7 8 9]]  =  [[1 2 3]\n",
      " [0 0 2]\n",
      " [1 0 1]]\n"
     ]
    }
   ],
   "source": [
    "x = NumpyObject([\n",
    "    [1, 2, 3]\n",
    "])\n",
    "\n",
    "y = NumpyObject([\n",
    "    [1, 2, 3],\n",
    "    [4, 5, 6],\n",
    "    [7, 8, 9]\n",
    "])\n",
    "\n",
    "allOperation(x, y)"
   ]
  }
 ],
 "metadata": {
  "kernelspec": {
   "display_name": "Python 3 (ipykernel)",
   "language": "python",
   "name": "python3"
  },
  "language_info": {
   "codemirror_mode": {
    "name": "ipython",
    "version": 3
   },
   "file_extension": ".py",
   "mimetype": "text/x-python",
   "name": "python",
   "nbconvert_exporter": "python",
   "pygments_lexer": "ipython3",
   "version": "3.9.6"
  }
 },
 "nbformat": 4,
 "nbformat_minor": 5
}
