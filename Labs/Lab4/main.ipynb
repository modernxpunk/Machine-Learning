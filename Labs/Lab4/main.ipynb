{
  "nbformat": 4,
  "nbformat_minor": 0,
  "metadata": {
    "orig_nbformat": 4,
    "language_info": {
      "name": "python",
      "version": "3.8.8",
      "mimetype": "text/x-python",
      "codemirror_mode": {
        "name": "ipython",
        "version": 3
      },
      "pygments_lexer": "ipython3",
      "nbconvert_exporter": "python",
      "file_extension": ".py"
    },
    "kernelspec": {
      "name": "python3",
      "display_name": "Python 3.8.8 64-bit ('base': conda)"
    },
    "interpreter": {
      "hash": "75cd0ae9ecbec3ab72299e27db8b610059db44a2f7a4c5d8b808971e07cf7af1"
    },
    "colab": {
      "name": "main.ipynb",
      "provenance": [],
      "collapsed_sections": [
        "NUsVgb8aNOP-",
        "jJt_EdXjNOQF"
      ]
    }
  },
  "cells": [
    {
      "cell_type": "markdown",
      "metadata": {
        "id": "eIt1OuD1NOP4"
      },
      "source": [
        "# **Лабораторна робота №4**\n",
        "# **МІТ-31**\n",
        "# **Ковальський Олександр**"
      ]
    },
    {
      "cell_type": "code",
      "metadata": {
        "id": "fNfHgx70NOP8"
      },
      "source": [
        "import tensorflow as tf\n",
        "import numpy as np\n",
        "import matplotlib.pyplot as plt\n",
        "import numpy as np\n",
        "import sklearn.metrics as metrics\n",
        "import pandas as pd\n",
        "import seaborn as sns"
      ],
      "execution_count": null,
      "outputs": []
    },
    {
      "cell_type": "markdown",
      "metadata": {
        "id": "NUsVgb8aNOP-"
      },
      "source": [
        "#1. Здійснити загальні операції з використанням TensorFlow (створити набір даних (розмір за власним рішенням) у вигляді тензорів, провести CRUD операції над даними (скаляр, вектор, матриця))."
      ]
    },
    {
      "cell_type": "markdown",
      "metadata": {
        "id": "f6wQU7xaOKcg"
      },
      "source": [
        "Create, read, update, delete"
      ]
    },
    {
      "cell_type": "code",
      "metadata": {
        "colab": {
          "base_uri": "https://localhost:8080/"
        },
        "id": "oRv_haGPNOP-",
        "outputId": "433da4cd-7ee4-4773-c7d5-62c524c82014"
      },
      "source": [
        "tf1 = tf.constant([[1, 2], [3, 4]])\n",
        "tf1 = tf1 + 100\n",
        "tf1_without_2nd_row = tf.gather(tf1, [0])\n",
        "tf1"
      ],
      "execution_count": null,
      "outputs": [
        {
          "output_type": "execute_result",
          "data": {
            "text/plain": [
              "<tf.Tensor: shape=(2, 2), dtype=int32, numpy=\n",
              "array([[101, 102],\n",
              "       [103, 104]], dtype=int32)>"
            ]
          },
          "metadata": {},
          "execution_count": 32
        }
      ]
    },
    {
      "cell_type": "code",
      "metadata": {
        "colab": {
          "base_uri": "https://localhost:8080/"
        },
        "id": "CXcElf61NOP_",
        "outputId": "ac2e5a7c-6f2e-43f5-ea45-15400e504463"
      },
      "source": [
        "scalar = tf.constant(10)\n",
        "scalar"
      ],
      "execution_count": null,
      "outputs": [
        {
          "output_type": "execute_result",
          "data": {
            "text/plain": [
              "<tf.Tensor: shape=(), dtype=int32, numpy=10>"
            ]
          },
          "metadata": {},
          "execution_count": 33
        }
      ]
    },
    {
      "cell_type": "code",
      "metadata": {
        "colab": {
          "base_uri": "https://localhost:8080/"
        },
        "id": "0_Zd9Ws3NOP_",
        "outputId": "7870bdb8-9cb4-4033-d761-7d51c5dbd6dc"
      },
      "source": [
        "scalar.ndim"
      ],
      "execution_count": null,
      "outputs": [
        {
          "output_type": "execute_result",
          "data": {
            "text/plain": [
              "0"
            ]
          },
          "metadata": {},
          "execution_count": 34
        }
      ]
    },
    {
      "cell_type": "code",
      "metadata": {
        "colab": {
          "base_uri": "https://localhost:8080/"
        },
        "id": "LEAZUWs1NOQA",
        "outputId": "5517bc25-1500-4297-e6bf-053f514d81fd"
      },
      "source": [
        "vector = tf.constant([19, 11.2])\n",
        "vector"
      ],
      "execution_count": null,
      "outputs": [
        {
          "output_type": "execute_result",
          "data": {
            "text/plain": [
              "<tf.Tensor: shape=(2,), dtype=float32, numpy=array([19. , 11.2], dtype=float32)>"
            ]
          },
          "metadata": {},
          "execution_count": 35
        }
      ]
    },
    {
      "cell_type": "code",
      "metadata": {
        "colab": {
          "base_uri": "https://localhost:8080/"
        },
        "id": "8mq6z_5DNOQA",
        "outputId": "9091eca1-3f57-425b-cd14-ab5ff5b56118"
      },
      "source": [
        "vector.ndim"
      ],
      "execution_count": null,
      "outputs": [
        {
          "output_type": "execute_result",
          "data": {
            "text/plain": [
              "1"
            ]
          },
          "metadata": {},
          "execution_count": 36
        }
      ]
    },
    {
      "cell_type": "code",
      "metadata": {
        "colab": {
          "base_uri": "https://localhost:8080/"
        },
        "id": "4okz780nNOQB",
        "outputId": "9556e1b9-a0a0-4f08-8117-4c39f971f06d"
      },
      "source": [
        "mat1 = tf.constant([[1, 2],\n",
        "                    [3, 4]])\n",
        "mat1"
      ],
      "execution_count": null,
      "outputs": [
        {
          "output_type": "execute_result",
          "data": {
            "text/plain": [
              "<tf.Tensor: shape=(2, 2), dtype=int32, numpy=\n",
              "array([[1, 2],\n",
              "       [3, 4]], dtype=int32)>"
            ]
          },
          "metadata": {},
          "execution_count": 37
        }
      ]
    },
    {
      "cell_type": "code",
      "metadata": {
        "colab": {
          "base_uri": "https://localhost:8080/"
        },
        "id": "jEWmrXaeNOQB",
        "outputId": "2734b1f6-f2e4-484b-d197-b955741a759f"
      },
      "source": [
        "mat1.ndim"
      ],
      "execution_count": null,
      "outputs": [
        {
          "output_type": "execute_result",
          "data": {
            "text/plain": [
              "2"
            ]
          },
          "metadata": {},
          "execution_count": 38
        }
      ]
    },
    {
      "cell_type": "code",
      "metadata": {
        "colab": {
          "base_uri": "https://localhost:8080/"
        },
        "id": "7n7uNLIsNOQC",
        "outputId": "b528c9d6-6784-4cbd-f25d-6fcaf24d7aaa"
      },
      "source": [
        "mat2 = tf.constant([[1., 4.],\n",
        "                    [3., 2.],\n",
        "                    [5., 6.]], dtype=tf.float16)\n",
        "\n",
        "mat2"
      ],
      "execution_count": null,
      "outputs": [
        {
          "output_type": "execute_result",
          "data": {
            "text/plain": [
              "<tf.Tensor: shape=(3, 2), dtype=float16, numpy=\n",
              "array([[1., 4.],\n",
              "       [3., 2.],\n",
              "       [5., 6.]], dtype=float16)>"
            ]
          },
          "metadata": {},
          "execution_count": 39
        }
      ]
    },
    {
      "cell_type": "code",
      "metadata": {
        "colab": {
          "base_uri": "https://localhost:8080/"
        },
        "id": "xKwUo0WANOQC",
        "outputId": "893f94c6-9b7e-4ce5-fde9-d06885aff09c"
      },
      "source": [
        "mat2.ndim"
      ],
      "execution_count": null,
      "outputs": [
        {
          "output_type": "execute_result",
          "data": {
            "text/plain": [
              "2"
            ]
          },
          "metadata": {},
          "execution_count": 40
        }
      ]
    },
    {
      "cell_type": "code",
      "metadata": {
        "colab": {
          "base_uri": "https://localhost:8080/"
        },
        "id": "tQVcIrKqNOQD",
        "outputId": "29192fc4-4bcb-4d11-a5e3-ae705f9dd057"
      },
      "source": [
        "tensor = tf.constant([[[1, 2, 3,],\n",
        "                       [4, 5, 6]],\n",
        "                      [[7, 8, 9],\n",
        "                       [10, 11, 12]],\n",
        "                      [[13, 14, 15],\n",
        "                       [16, 17, 18]]])\n",
        "tensor"
      ],
      "execution_count": null,
      "outputs": [
        {
          "output_type": "execute_result",
          "data": {
            "text/plain": [
              "<tf.Tensor: shape=(3, 2, 3), dtype=int32, numpy=\n",
              "array([[[ 1,  2,  3],\n",
              "        [ 4,  5,  6]],\n",
              "\n",
              "       [[ 7,  8,  9],\n",
              "        [10, 11, 12]],\n",
              "\n",
              "       [[13, 14, 15],\n",
              "        [16, 17, 18]]], dtype=int32)>"
            ]
          },
          "metadata": {},
          "execution_count": 41
        }
      ]
    },
    {
      "cell_type": "code",
      "metadata": {
        "colab": {
          "base_uri": "https://localhost:8080/"
        },
        "id": "smtTWAeZNOQD",
        "outputId": "16f3a04b-677d-4b3a-e5e9-2236e7e934a3"
      },
      "source": [
        "tensor.ndim"
      ],
      "execution_count": null,
      "outputs": [
        {
          "output_type": "execute_result",
          "data": {
            "text/plain": [
              "3"
            ]
          },
          "metadata": {},
          "execution_count": 42
        }
      ]
    },
    {
      "cell_type": "code",
      "metadata": {
        "id": "XmX5dXcBNOQD"
      },
      "source": [
        "random_1 = tf.random.Generator.from_seed(7)\n",
        "random_1 = random_1.normal(shape=(4, 2))\n",
        "random_2 = tf.random.Generator.from_seed(10)\n",
        "random_2 = random_2.normal(shape=(5, 3))"
      ],
      "execution_count": null,
      "outputs": []
    },
    {
      "cell_type": "code",
      "metadata": {
        "colab": {
          "base_uri": "https://localhost:8080/"
        },
        "id": "JTxowNqQNOQE",
        "outputId": "1a5e76fb-9d4c-4094-e088-68adc437557a"
      },
      "source": [
        "df2 = pd.DataFrame(np.random.randint(0, 10, (5, 5)), columns=[\"a\", \"b\", \"c\", \"d\", \"e\"])\n",
        "print(df2)\n",
        "print(df2.describe(include='all'))"
      ],
      "execution_count": null,
      "outputs": [
        {
          "output_type": "stream",
          "name": "stdout",
          "text": [
            "   a  b  c  d  e\n",
            "0  1  2  9  9  7\n",
            "1  5  9  9  6  2\n",
            "2  7  4  5  5  9\n",
            "3  4  9  7  8  3\n",
            "4  0  7  4  4  6\n",
            "              a         b         c         d         e\n",
            "count  5.000000  5.000000  5.000000  5.000000  5.000000\n",
            "mean   3.400000  6.200000  6.800000  6.400000  5.400000\n",
            "std    2.880972  3.114482  2.280351  2.073644  2.880972\n",
            "min    0.000000  2.000000  4.000000  4.000000  2.000000\n",
            "25%    1.000000  4.000000  5.000000  5.000000  3.000000\n",
            "50%    4.000000  7.000000  7.000000  6.000000  6.000000\n",
            "75%    5.000000  9.000000  9.000000  8.000000  7.000000\n",
            "max    7.000000  9.000000  9.000000  9.000000  9.000000\n"
          ]
        }
      ]
    },
    {
      "cell_type": "code",
      "metadata": {
        "colab": {
          "base_uri": "https://localhost:8080/"
        },
        "id": "Cpu3G8DjNOQE",
        "outputId": "d4933394-e1c8-46ac-a552-3c2cbc865867"
      },
      "source": [
        "training_df: pd.DataFrame = pd.DataFrame(\n",
        "    data={\n",
        "        'column1': np.random.rand(10),\n",
        "        'column2': np.random.rand(10),\n",
        "        'column3': np.random.rand(10),\n",
        "        'target': np.random.randint(0, 3, 10)\n",
        "    }\n",
        ")\n",
        "features = ['column1', 'column2', 'column3']\n",
        "print(training_df)\n",
        "\n",
        "training_dataset = (\n",
        "    tf.data.Dataset.from_tensor_slices(\n",
        "        (\n",
        "            tf.cast(training_df[features].values, tf.float32),\n",
        "            tf.cast(training_df['target'].values, tf.int32)\n",
        "        )\n",
        "    )\n",
        ")\n",
        "\n",
        "for features_tensor, target_tensor in training_dataset:\n",
        "    print(f'features:{features_tensor} target:{target_tensor}')"
      ],
      "execution_count": null,
      "outputs": [
        {
          "output_type": "stream",
          "name": "stdout",
          "text": [
            "    column1   column2   column3  target\n",
            "0  0.862137  0.512989  0.874630       0\n",
            "1  0.272932  0.148033  0.930313       1\n",
            "2  0.682449  0.927108  0.900087       0\n",
            "3  0.222806  0.190967  0.633460       1\n",
            "4  0.439379  0.782700  0.261451       1\n",
            "5  0.806236  0.829773  0.631168       1\n",
            "6  0.933198  0.389226  0.330104       1\n",
            "7  0.620187  0.324449  0.300732       1\n",
            "8  0.609853  0.942778  0.199093       2\n",
            "9  0.030779  0.751533  0.186828       1\n",
            "features:[0.86213714 0.51298887 0.8746304 ] target:0\n",
            "features:[0.27293232 0.14803256 0.9303129 ] target:1\n",
            "features:[0.68244916 0.9271083  0.9000865 ] target:0\n",
            "features:[0.22280619 0.19096734 0.6334603 ] target:1\n",
            "features:[0.43937907 0.7826999  0.2614512 ] target:1\n",
            "features:[0.8062358  0.82977295 0.63116765] target:1\n",
            "features:[0.93319803 0.3892258  0.33010364] target:1\n",
            "features:[0.62018687 0.32444897 0.3007317 ] target:1\n",
            "features:[0.60985255 0.9427778  0.19909282] target:2\n",
            "features:[0.03077901 0.75153315 0.18682763] target:1\n"
          ]
        }
      ]
    },
    {
      "cell_type": "code",
      "metadata": {
        "colab": {
          "base_uri": "https://localhost:8080/",
          "height": 279
        },
        "id": "0Kk7lTI1NOQF",
        "outputId": "13a4f826-b1fe-46cb-cefb-a3fb42e89922"
      },
      "source": [
        "x = np.arange(0, 6, 0.5)\n",
        "y1 = x * 1.5\n",
        "\n",
        "adder = np.random.random(len(x)) * 1.4 - 0.7\n",
        "y2 = y1 + adder\n",
        "\n",
        "plt.figure()\n",
        "plt.grid()\n",
        "plt.xticks(x)\n",
        "plt.yticks(range(int(x[-1] * 1.5 + 1)))\n",
        "plt.xlabel('X Axis')\n",
        "plt.ylabel('Y Axis')\n",
        "\n",
        "plt.plot(x, y1, \"r--\", label=\"teoretic\")\n",
        "plt.plot(x, y2, \"b\", label=\"result\")\n",
        "\n",
        "plt.legend()\n",
        "plt.show()"
      ],
      "execution_count": null,
      "outputs": [
        {
          "output_type": "display_data",
          "data": {
            "image/png": "[encoded data removed]",
            "text/plain": [
              "<Figure size 432x288 with 1 Axes>"
            ]
          },
          "metadata": {
            "needs_background": "light"
          }
        }
      ]
    },
    {
      "cell_type": "code",
      "metadata": {
        "colab": {
          "base_uri": "https://localhost:8080/"
        },
        "id": "D-RleHckNOQF",
        "outputId": "f70967bf-5831-484a-fbad-431d26fe64f1"
      },
      "source": [
        "mae = metrics.mean_absolute_error(y2, y1)\n",
        "mse = metrics.mean_squared_error(y2, y1)\n",
        "print(mae)\n",
        "print(mse)"
      ],
      "execution_count": null,
      "outputs": [
        {
          "output_type": "stream",
          "name": "stdout",
          "text": [
            "0.33548556371108856\n",
            "0.14735700716231995\n"
          ]
        }
      ]
    },
    {
      "cell_type": "code",
      "metadata": {
        "colab": {
          "base_uri": "https://localhost:8080/"
        },
        "id": "Q3LkAirLNOQF",
        "outputId": "31a451ac-03b8-4645-ad00-8edd65403b85"
      },
      "source": [
        "df = pd.DataFrame(np.array([x, y2, y1]).swapaxes(0,1), columns=['X', 'Y', 'Y_hat'])\n",
        "print(df)\n",
        "with open('data.csv', 'w') as f:\n",
        "    f.write(df.to_csv(index=False))"
      ],
      "execution_count": null,
      "outputs": [
        {
          "output_type": "stream",
          "name": "stdout",
          "text": [
            "      X         Y  Y_hat\n",
            "0   0.0 -0.179931   0.00\n",
            "1   0.5  0.495552   0.75\n",
            "2   1.0  1.044412   1.50\n",
            "3   1.5  1.619654   2.25\n",
            "4   2.0  3.257600   3.00\n",
            "5   2.5  3.913206   3.75\n",
            "6   3.0  3.816938   4.50\n",
            "7   3.5  5.422073   5.25\n",
            "8   4.0  5.941455   6.00\n",
            "9   4.5  6.272539   6.75\n",
            "10  5.0  7.102334   7.50\n",
            "11  5.5  7.954099   8.25\n"
          ]
        }
      ]
    },
    {
      "cell_type": "markdown",
      "metadata": {
        "id": "jJt_EdXjNOQF"
      },
      "source": [
        "#2. Згенерувати набір даних для регресії та класифікації з використанням TensorFlow"
      ]
    },
    {
      "cell_type": "code",
      "metadata": {
        "colab": {
          "base_uri": "https://localhost:8080/"
        },
        "id": "6EHyMSW2NOQG",
        "outputId": "656f3813-a979-40ba-c25c-a98c8586548e"
      },
      "source": [
        "tf.random.set_seed(42)\n",
        "\n",
        "model_1 = tf.keras.Sequential([\n",
        "  tf.keras.layers.Dense(100), \n",
        "  tf.keras.layers.Dense(10),\n",
        "  tf.keras.layers.Dense(1)\n",
        "])\n",
        "\n",
        "model_1.compile(loss=tf.keras.losses.BinaryCrossentropy(),\n",
        "                optimizer=tf.keras.optimizers.Adam(), \n",
        "                metrics=['accuracy'])\n",
        "\n",
        "model_1.fit(x, y1, epochs=80, verbose=0)"
      ],
      "execution_count": null,
      "outputs": [
        {
          "output_type": "execute_result",
          "data": {
            "text/plain": [
              "<keras.callbacks.History at 0x7fd6e0574a90>"
            ]
          },
          "metadata": {},
          "execution_count": 72
        }
      ]
    },
    {
      "cell_type": "code",
      "metadata": {
        "id": "LunqdigSNOQG"
      },
      "source": [
        "def plot_decision_boundary(model, X, y):\n",
        "    \n",
        "  x_min, x_max = X[:, 0].min() - 0.1, X[:, 0].max() + 0.1\n",
        "  y_min, y_max = X[:, 1].min() - 0.1, X[:, 1].max() + 0.1\n",
        "  xx, yy = np.meshgrid(np.linspace(x_min, x_max, 100),\n",
        "                       np.linspace(y_min, y_max, 100))\n",
        "  \n",
        "  x_in = np.c_[xx.ravel(), yy.ravel()]\n",
        " \n",
        "  y_pred = model.predict(x_in)\n",
        "\n",
        "  if len(y_pred[0]) > 1:\n",
        "    print(\"doing multiclass classification...\")\n",
        "    y_pred = np.argmax(y_pred, axis=1).reshape(xx.shape)\n",
        "  else:\n",
        "    print(\"doing binary classifcation...\")\n",
        "    y_pred = np.round(y_pred).reshape(xx.shape)\n",
        "\n",
        "  plt.contourf(xx, yy, y_pred, cmap=plt.cm.RdYlBu, alpha=0.7)\n",
        "  plt.scatter(X[:, 0], X[:, 1], c=y, s=40, cmap=plt.cm.RdYlBu)\n",
        "  plt.xlim(xx.min(), xx.max())\n",
        "  plt.ylim(yy.min(), yy.max())"
      ],
      "execution_count": null,
      "outputs": []
    },
    {
      "cell_type": "code",
      "metadata": {
        "id": "F47Q1D_lNOQG"
      },
      "source": [
        "tf.random.set_seed(42)\n",
        "\n",
        "X_regression = np.arange(0, 1000, 5)\n",
        "y_regression = np.arange(100, 1100, 5)\n",
        "\n",
        "X_reg_train = X_regression[:150]\n",
        "X_reg_test = X_regression[150:]\n",
        "y_reg_train = y_regression[:150]\n",
        "y_reg_test = y_regression[150:]"
      ],
      "execution_count": null,
      "outputs": []
    },
    {
      "cell_type": "code",
      "metadata": {
        "colab": {
          "base_uri": "https://localhost:8080/"
        },
        "id": "KSYr50cwNOQG",
        "outputId": "453c4560-b5fe-459c-8e35-0d1b8b6c0488"
      },
      "source": [
        "tf.random.set_seed(42)\n",
        "\n",
        "model_1 = tf.keras.Sequential([\n",
        "  tf.keras.layers.Dense(100),\n",
        "  tf.keras.layers.Dense(10),\n",
        "  tf.keras.layers.Dense(1)\n",
        "])\n",
        "\n",
        "model_1.compile(loss=tf.keras.losses.mae,\n",
        "                optimizer=tf.keras.optimizers.Adam(),\n",
        "                metrics=['mae'])\n",
        "\n",
        "model_1.fit(X_reg_train, y_reg_train, epochs=100)"
      ],
      "execution_count": null,
      "outputs": [
        {
          "output_type": "stream",
          "name": "stdout",
          "text": [
            "Epoch 1/100\n",
            "5/5 [==============================] - 0s 3ms/step - loss: 248.2155 - mae: 248.2155\n",
            "Epoch 2/100\n",
            "5/5 [==============================] - 0s 3ms/step - loss: 138.9005 - mae: 138.9005\n",
            "Epoch 3/100\n",
            "5/5 [==============================] - 0s 3ms/step - loss: 53.1039 - mae: 53.1039\n",
            "Epoch 4/100\n",
            "5/5 [==============================] - 0s 3ms/step - loss: 73.5170 - mae: 73.5170\n",
            "Epoch 5/100\n",
            "5/5 [==============================] - 0s 4ms/step - loss: 71.2358 - mae: 71.2358\n",
            "Epoch 6/100\n",
            "5/5 [==============================] - 0s 5ms/step - loss: 47.0040 - mae: 47.0040\n",
            "Epoch 7/100\n",
            "5/5 [==============================] - 0s 3ms/step - loss: 45.9386 - mae: 45.9386\n",
            "Epoch 8/100\n",
            "5/5 [==============================] - 0s 3ms/step - loss: 42.3638 - mae: 42.3638\n",
            "Epoch 9/100\n",
            "5/5 [==============================] - 0s 3ms/step - loss: 43.6831 - mae: 43.6831\n",
            "Epoch 10/100\n",
            "5/5 [==============================] - 0s 2ms/step - loss: 42.6198 - mae: 42.6198\n",
            "Epoch 11/100\n",
            "5/5 [==============================] - 0s 2ms/step - loss: 42.4797 - mae: 42.4797\n",
            "Epoch 12/100\n",
            "5/5 [==============================] - 0s 2ms/step - loss: 41.5537 - mae: 41.5537\n",
            "Epoch 13/100\n",
            "5/5 [==============================] - 0s 3ms/step - loss: 42.0972 - mae: 42.0972\n",
            "Epoch 14/100\n",
            "5/5 [==============================] - 0s 3ms/step - loss: 41.8647 - mae: 41.8647\n",
            "Epoch 15/100\n",
            "5/5 [==============================] - 0s 3ms/step - loss: 41.5342 - mae: 41.5342\n",
            "Epoch 16/100\n",
            "5/5 [==============================] - 0s 3ms/step - loss: 41.4028 - mae: 41.4028\n",
            "Epoch 17/100\n",
            "5/5 [==============================] - 0s 3ms/step - loss: 41.6887 - mae: 41.6887\n",
            "Epoch 18/100\n",
            "5/5 [==============================] - 0s 3ms/step - loss: 41.6137 - mae: 41.6137\n",
            "Epoch 19/100\n",
            "5/5 [==============================] - 0s 4ms/step - loss: 41.2796 - mae: 41.2796\n",
            "Epoch 20/100\n",
            "5/5 [==============================] - 0s 3ms/step - loss: 41.1947 - mae: 41.1947\n",
            "Epoch 21/100\n",
            "5/5 [==============================] - 0s 3ms/step - loss: 41.2130 - mae: 41.2130\n",
            "Epoch 22/100\n",
            "5/5 [==============================] - 0s 3ms/step - loss: 41.0893 - mae: 41.0893\n",
            "Epoch 23/100\n",
            "5/5 [==============================] - 0s 3ms/step - loss: 41.2019 - mae: 41.2019\n",
            "Epoch 24/100\n",
            "5/5 [==============================] - 0s 3ms/step - loss: 40.9989 - mae: 40.9989\n",
            "Epoch 25/100\n",
            "5/5 [==============================] - 0s 3ms/step - loss: 41.0131 - mae: 41.0131\n",
            "Epoch 26/100\n",
            "5/5 [==============================] - 0s 3ms/step - loss: 41.0654 - mae: 41.0654\n",
            "Epoch 27/100\n",
            "5/5 [==============================] - 0s 3ms/step - loss: 40.8764 - mae: 40.8764\n",
            "Epoch 28/100\n",
            "5/5 [==============================] - 0s 3ms/step - loss: 41.0545 - mae: 41.0545\n",
            "Epoch 29/100\n",
            "5/5 [==============================] - 0s 3ms/step - loss: 41.0480 - mae: 41.0480\n",
            "Epoch 30/100\n",
            "5/5 [==============================] - 0s 3ms/step - loss: 40.8807 - mae: 40.8807\n",
            "Epoch 31/100\n",
            "5/5 [==============================] - 0s 4ms/step - loss: 41.2695 - mae: 41.2695\n",
            "Epoch 32/100\n",
            "5/5 [==============================] - 0s 3ms/step - loss: 40.9949 - mae: 40.9949\n",
            "Epoch 33/100\n",
            "5/5 [==============================] - 0s 3ms/step - loss: 41.0760 - mae: 41.0760\n",
            "Epoch 34/100\n",
            "5/5 [==============================] - 0s 3ms/step - loss: 41.2471 - mae: 41.2471\n",
            "Epoch 35/100\n",
            "5/5 [==============================] - 0s 2ms/step - loss: 40.6102 - mae: 40.6102\n",
            "Epoch 36/100\n",
            "5/5 [==============================] - 0s 3ms/step - loss: 41.1093 - mae: 41.1093\n",
            "Epoch 37/100\n",
            "5/5 [==============================] - 0s 4ms/step - loss: 40.8191 - mae: 40.8191\n",
            "Epoch 38/100\n",
            "5/5 [==============================] - 0s 3ms/step - loss: 40.2485 - mae: 40.2485\n",
            "Epoch 39/100\n",
            "5/5 [==============================] - 0s 3ms/step - loss: 41.0625 - mae: 41.0625\n",
            "Epoch 40/100\n",
            "5/5 [==============================] - 0s 3ms/step - loss: 40.5311 - mae: 40.5311\n",
            "Epoch 41/100\n",
            "5/5 [==============================] - 0s 3ms/step - loss: 40.5497 - mae: 40.5497\n",
            "Epoch 42/100\n",
            "5/5 [==============================] - 0s 4ms/step - loss: 40.4322 - mae: 40.4322\n",
            "Epoch 43/100\n",
            "5/5 [==============================] - 0s 3ms/step - loss: 40.5367 - mae: 40.5367\n",
            "Epoch 44/100\n",
            "5/5 [==============================] - 0s 3ms/step - loss: 40.2487 - mae: 40.2487\n",
            "Epoch 45/100\n",
            "5/5 [==============================] - 0s 3ms/step - loss: 40.5152 - mae: 40.5152\n",
            "Epoch 46/100\n",
            "5/5 [==============================] - 0s 4ms/step - loss: 40.3702 - mae: 40.3702\n",
            "Epoch 47/100\n",
            "5/5 [==============================] - 0s 2ms/step - loss: 40.4769 - mae: 40.4769\n",
            "Epoch 48/100\n",
            "5/5 [==============================] - 0s 2ms/step - loss: 40.1532 - mae: 40.1532\n",
            "Epoch 49/100\n",
            "5/5 [==============================] - 0s 3ms/step - loss: 40.7291 - mae: 40.7291\n",
            "Epoch 50/100\n",
            "5/5 [==============================] - 0s 3ms/step - loss: 40.1536 - mae: 40.1536\n",
            "Epoch 51/100\n",
            "5/5 [==============================] - 0s 3ms/step - loss: 40.2711 - mae: 40.2711\n",
            "Epoch 52/100\n",
            "5/5 [==============================] - 0s 2ms/step - loss: 40.6572 - mae: 40.6572\n",
            "Epoch 53/100\n",
            "5/5 [==============================] - 0s 3ms/step - loss: 40.6573 - mae: 40.6573\n",
            "Epoch 54/100\n",
            "5/5 [==============================] - 0s 3ms/step - loss: 40.6894 - mae: 40.6894\n",
            "Epoch 55/100\n",
            "5/5 [==============================] - 0s 2ms/step - loss: 41.2771 - mae: 41.2771\n",
            "Epoch 56/100\n",
            "5/5 [==============================] - 0s 3ms/step - loss: 41.8519 - mae: 41.8519\n",
            "Epoch 57/100\n",
            "5/5 [==============================] - 0s 3ms/step - loss: 40.7903 - mae: 40.7903\n",
            "Epoch 58/100\n",
            "5/5 [==============================] - 0s 3ms/step - loss: 40.3128 - mae: 40.3128\n",
            "Epoch 59/100\n",
            "5/5 [==============================] - 0s 3ms/step - loss: 40.7198 - mae: 40.7198\n",
            "Epoch 60/100\n",
            "5/5 [==============================] - 0s 3ms/step - loss: 40.1478 - mae: 40.1478\n",
            "Epoch 61/100\n",
            "5/5 [==============================] - 0s 2ms/step - loss: 40.1116 - mae: 40.1116\n",
            "Epoch 62/100\n",
            "5/5 [==============================] - 0s 3ms/step - loss: 40.7800 - mae: 40.7800\n",
            "Epoch 63/100\n",
            "5/5 [==============================] - 0s 6ms/step - loss: 39.7242 - mae: 39.7242\n",
            "Epoch 64/100\n",
            "5/5 [==============================] - 0s 3ms/step - loss: 40.1465 - mae: 40.1465\n",
            "Epoch 65/100\n",
            "5/5 [==============================] - 0s 3ms/step - loss: 39.6887 - mae: 39.6887\n",
            "Epoch 66/100\n",
            "5/5 [==============================] - 0s 3ms/step - loss: 40.2840 - mae: 40.2840\n",
            "Epoch 67/100\n",
            "5/5 [==============================] - 0s 3ms/step - loss: 39.5541 - mae: 39.5541\n",
            "Epoch 68/100\n",
            "5/5 [==============================] - 0s 4ms/step - loss: 39.7378 - mae: 39.7378\n",
            "Epoch 69/100\n",
            "5/5 [==============================] - 0s 3ms/step - loss: 39.9784 - mae: 39.9784\n",
            "Epoch 70/100\n",
            "5/5 [==============================] - 0s 3ms/step - loss: 40.0016 - mae: 40.0016\n",
            "Epoch 71/100\n",
            "5/5 [==============================] - 0s 3ms/step - loss: 40.0913 - mae: 40.0913\n",
            "Epoch 72/100\n",
            "5/5 [==============================] - 0s 3ms/step - loss: 39.2547 - mae: 39.2547\n",
            "Epoch 73/100\n",
            "5/5 [==============================] - 0s 3ms/step - loss: 39.6828 - mae: 39.6828\n",
            "Epoch 74/100\n",
            "5/5 [==============================] - 0s 3ms/step - loss: 39.5373 - mae: 39.5373\n",
            "Epoch 75/100\n",
            "5/5 [==============================] - 0s 4ms/step - loss: 39.6265 - mae: 39.6265\n",
            "Epoch 76/100\n",
            "5/5 [==============================] - 0s 4ms/step - loss: 39.3110 - mae: 39.3110\n",
            "Epoch 77/100\n",
            "5/5 [==============================] - 0s 3ms/step - loss: 39.1599 - mae: 39.1599\n",
            "Epoch 78/100\n",
            "5/5 [==============================] - 0s 4ms/step - loss: 39.7550 - mae: 39.7550\n",
            "Epoch 79/100\n",
            "5/5 [==============================] - 0s 4ms/step - loss: 39.2542 - mae: 39.2542\n",
            "Epoch 80/100\n",
            "5/5 [==============================] - 0s 3ms/step - loss: 38.6968 - mae: 38.6968\n",
            "Epoch 81/100\n",
            "5/5 [==============================] - 0s 3ms/step - loss: 39.5442 - mae: 39.5442\n",
            "Epoch 82/100\n",
            "5/5 [==============================] - 0s 2ms/step - loss: 39.8686 - mae: 39.8686\n",
            "Epoch 83/100\n",
            "5/5 [==============================] - 0s 3ms/step - loss: 39.1693 - mae: 39.1693\n",
            "Epoch 84/100\n",
            "5/5 [==============================] - 0s 3ms/step - loss: 38.8840 - mae: 38.8840\n",
            "Epoch 85/100\n",
            "5/5 [==============================] - 0s 4ms/step - loss: 38.8887 - mae: 38.8887\n",
            "Epoch 86/100\n",
            "5/5 [==============================] - 0s 3ms/step - loss: 38.6614 - mae: 38.6614\n",
            "Epoch 87/100\n",
            "5/5 [==============================] - 0s 3ms/step - loss: 38.8399 - mae: 38.8399\n",
            "Epoch 88/100\n",
            "5/5 [==============================] - 0s 4ms/step - loss: 38.6604 - mae: 38.6604\n",
            "Epoch 89/100\n",
            "5/5 [==============================] - 0s 3ms/step - loss: 38.7559 - mae: 38.7559\n",
            "Epoch 90/100\n",
            "5/5 [==============================] - 0s 3ms/step - loss: 38.5442 - mae: 38.5442\n",
            "Epoch 91/100\n",
            "5/5 [==============================] - 0s 3ms/step - loss: 38.3247 - mae: 38.3247\n",
            "Epoch 92/100\n",
            "5/5 [==============================] - 0s 3ms/step - loss: 38.8431 - mae: 38.8431\n",
            "Epoch 93/100\n",
            "5/5 [==============================] - 0s 3ms/step - loss: 39.1137 - mae: 39.1137\n",
            "Epoch 94/100\n",
            "5/5 [==============================] - 0s 3ms/step - loss: 38.1463 - mae: 38.1463\n",
            "Epoch 95/100\n",
            "5/5 [==============================] - 0s 2ms/step - loss: 38.3998 - mae: 38.3998\n",
            "Epoch 96/100\n",
            "5/5 [==============================] - 0s 3ms/step - loss: 38.5599 - mae: 38.5599\n",
            "Epoch 97/100\n",
            "5/5 [==============================] - 0s 3ms/step - loss: 38.1038 - mae: 38.1038\n",
            "Epoch 98/100\n",
            "5/5 [==============================] - 0s 3ms/step - loss: 39.0081 - mae: 39.0081\n",
            "Epoch 99/100\n",
            "5/5 [==============================] - 0s 4ms/step - loss: 38.3056 - mae: 38.3056\n",
            "Epoch 100/100\n",
            "5/5 [==============================] - 0s 4ms/step - loss: 37.9976 - mae: 37.9976\n"
          ]
        },
        {
          "output_type": "execute_result",
          "data": {
            "text/plain": [
              "<keras.callbacks.History at 0x7fd6e0311610>"
            ]
          },
          "metadata": {},
          "execution_count": 75
        }
      ]
    },
    {
      "cell_type": "code",
      "metadata": {
        "colab": {
          "base_uri": "https://localhost:8080/"
        },
        "id": "TzeVJR9TNOQH",
        "outputId": "778f657d-9889-412d-a266-7489739f6620"
      },
      "source": [
        "y_reg_preds = model_1.predict(y_reg_test)\n",
        "\n",
        "plt.figure(figsize=(10, 7))\n",
        "plt.scatter(X_reg_train, y_reg_train, c='g', label='train')\n",
        "plt.scatter(X_reg_test, y_reg_test, c='b', label='test')\n",
        "plt.scatter(X_reg_test, y_reg_preds.squeeze(), c='r', label='predict')\n",
        "plt.legend()"
      ],
      "execution_count": null,
      "outputs": [
        {
          "output_type": "execute_result",
          "data": {
            "text/plain": [
              "<matplotlib.legend.Legend at 0x7fd6e04e4550>"
            ]
          },
          "metadata": {},
          "execution_count": 76
        },
        {
          "output_type": "display_data",
          "data": {
            "image/png": "[encoded data removed]",
            "text/plain": [
              "<Figure size 720x504 with 1 Axes>"
            ]
          },
          "metadata": {
            "needs_background": "light"
          }
        }
      ]
    },
    {
      "cell_type": "code",
      "metadata": {
        "colab": {
          "base_uri": "https://localhost:8080/"
        },
        "id": "4vc4nSFvNOQH",
        "outputId": "d31a8fe1-7440-49a8-aec4-c4509c60f7a5"
      },
      "source": [
        "model_1.evaluate(x, y1)"
      ],
      "execution_count": null,
      "outputs": [
        {
          "output_type": "stream",
          "name": "stdout",
          "text": [
            "1/1 [==============================] - 0s 94ms/step - loss: 7.7470 - mae: 7.7470\n"
          ]
        },
        {
          "output_type": "execute_result",
          "data": {
            "text/plain": [
              "[7.747018337249756, 7.747018337249756]"
            ]
          },
          "metadata": {},
          "execution_count": 77
        }
      ]
    },
    {
      "cell_type": "code",
      "metadata": {
        "colab": {
          "base_uri": "https://localhost:8080/"
        },
        "id": "NGwrTiKkNOQH",
        "outputId": "c04c3101-ad15-4854-ee91-efc81672e3e4"
      },
      "source": [
        "len(x)"
      ],
      "execution_count": null,
      "outputs": [
        {
          "output_type": "execute_result",
          "data": {
            "text/plain": [
              "12"
            ]
          },
          "metadata": {},
          "execution_count": 78
        }
      ]
    },
    {
      "cell_type": "code",
      "metadata": {
        "colab": {
          "base_uri": "https://localhost:8080/"
        },
        "id": "qxPiN0srNOQH",
        "outputId": "49356733-1ff7-4394-8338-55f3b6c2e6ce"
      },
      "source": [
        "X_train, y_train = x[:800], y1[:800]\n",
        "X_test, y_test = x[800:], y1[800:]\n",
        "\n",
        "X_train.shape, X_test.shape"
      ],
      "execution_count": null,
      "outputs": [
        {
          "output_type": "execute_result",
          "data": {
            "text/plain": [
              "((12,), (0,))"
            ]
          },
          "metadata": {},
          "execution_count": 79
        }
      ]
    },
    {
      "cell_type": "code",
      "metadata": {
        "colab": {
          "base_uri": "https://localhost:8080/"
        },
        "id": "Nm97JPvONOQI",
        "outputId": "1003cd55-b5e4-41f8-ac0b-67334e54923f"
      },
      "source": [
        "tf.random.set_seed(42)\n",
        "\n",
        "model_2 = tf.keras.Sequential([\n",
        "  tf.keras.layers.Dense(4, activation=\"relu\"), \n",
        "  tf.keras.layers.Dense(4, activation=\"relu\"),\n",
        "  tf.keras.layers.Dense(1, activation=\"sigmoid\")\n",
        "])\n",
        "\n",
        "model_2.compile(loss=tf.keras.losses.binary_crossentropy,\n",
        "                optimizer=tf.keras.optimizers.Adam(lr=0.01), \n",
        "                metrics=['accuracy'])\n",
        "\n",
        "history = model_2.fit(X_train, y_train, epochs=25)"
      ],
      "execution_count": null,
      "outputs": [
        {
          "output_type": "stream",
          "name": "stdout",
          "text": [
            "Epoch 1/25\n"
          ]
        },
        {
          "output_type": "stream",
          "name": "stderr",
          "text": [
            "/usr/local/lib/python3.7/dist-packages/keras/optimizer_v2/optimizer_v2.py:356: UserWarning: The `lr` argument is deprecated, use `learning_rate` instead.\n",
            "  \"The `lr` argument is deprecated, use `learning_rate` instead.\")\n"
          ]
        },
        {
          "output_type": "stream",
          "name": "stdout",
          "text": [
            "1/1 [==============================] - 0s 452ms/step - loss: 3.9688 - accuracy: 0.0833\n",
            "Epoch 2/25\n",
            "1/1 [==============================] - 0s 13ms/step - loss: 3.6169 - accuracy: 0.0000e+00\n",
            "Epoch 3/25\n",
            "1/1 [==============================] - 0s 6ms/step - loss: 3.2767 - accuracy: 0.0000e+00\n",
            "Epoch 4/25\n",
            "1/1 [==============================] - 0s 8ms/step - loss: 2.9482 - accuracy: 0.0000e+00\n",
            "Epoch 5/25\n",
            "1/1 [==============================] - 0s 4ms/step - loss: 2.6314 - accuracy: 0.0000e+00\n",
            "Epoch 6/25\n",
            "1/1 [==============================] - 0s 6ms/step - loss: 2.3264 - accuracy: 0.0000e+00\n",
            "Epoch 7/25\n",
            "1/1 [==============================] - 0s 6ms/step - loss: 2.0332 - accuracy: 0.0000e+00\n",
            "Epoch 8/25\n",
            "1/1 [==============================] - 0s 5ms/step - loss: 1.7521 - accuracy: 0.0000e+00\n",
            "Epoch 9/25\n",
            "1/1 [==============================] - 0s 4ms/step - loss: 1.4826 - accuracy: 0.0000e+00\n",
            "Epoch 10/25\n",
            "1/1 [==============================] - 0s 4ms/step - loss: 1.2246 - accuracy: 0.0000e+00\n",
            "Epoch 11/25\n",
            "1/1 [==============================] - 0s 5ms/step - loss: 0.9778 - accuracy: 0.0000e+00\n",
            "Epoch 12/25\n",
            "1/1 [==============================] - 0s 4ms/step - loss: 0.7433 - accuracy: 0.0000e+00\n",
            "Epoch 13/25\n",
            "1/1 [==============================] - 0s 5ms/step - loss: 0.5200 - accuracy: 0.0000e+00\n",
            "Epoch 14/25\n",
            "1/1 [==============================] - 0s 6ms/step - loss: 0.3072 - accuracy: 0.0000e+00\n",
            "Epoch 15/25\n",
            "1/1 [==============================] - 0s 6ms/step - loss: 0.1060 - accuracy: 0.0000e+00\n",
            "Epoch 16/25\n",
            "1/1 [==============================] - 0s 4ms/step - loss: -0.0838 - accuracy: 0.0000e+00\n",
            "Epoch 17/25\n",
            "1/1 [==============================] - 0s 4ms/step - loss: -0.2645 - accuracy: 0.0000e+00\n",
            "Epoch 18/25\n",
            "1/1 [==============================] - 0s 10ms/step - loss: -0.4324 - accuracy: 0.0000e+00\n",
            "Epoch 19/25\n",
            "1/1 [==============================] - 0s 5ms/step - loss: -0.5917 - accuracy: 0.0000e+00\n",
            "Epoch 20/25\n",
            "1/1 [==============================] - 0s 18ms/step - loss: -0.7394 - accuracy: 0.0000e+00\n",
            "Epoch 21/25\n",
            "1/1 [==============================] - 0s 14ms/step - loss: -0.8784 - accuracy: 0.0000e+00\n",
            "Epoch 22/25\n",
            "1/1 [==============================] - 0s 17ms/step - loss: -1.0066 - accuracy: 0.0000e+00\n",
            "Epoch 23/25\n",
            "1/1 [==============================] - 0s 12ms/step - loss: -1.1277 - accuracy: 0.0000e+00\n",
            "Epoch 24/25\n",
            "1/1 [==============================] - 0s 5ms/step - loss: -1.2379 - accuracy: 0.0000e+00\n",
            "Epoch 25/25\n",
            "1/1 [==============================] - 0s 8ms/step - loss: -1.3440 - accuracy: 0.0000e+00\n"
          ]
        }
      ]
    },
    {
      "cell_type": "code",
      "metadata": {
        "colab": {
          "base_uri": "https://localhost:8080/"
        },
        "id": "vZTQ1oo0NOQI",
        "outputId": "a8678be5-8e5b-412d-ca2a-b10d375c55b1"
      },
      "source": [
        "pd.DataFrame(history.history)"
      ],
      "execution_count": null,
      "outputs": [
        {
          "output_type": "execute_result",
          "data": {
            "text/html": [
              "<div>\n",
              "<style scoped>\n",
              "    .dataframe tbody tr th:only-of-type {\n",
              "        vertical-align: middle;\n",
              "    }\n",
              "\n",
              "    .dataframe tbody tr th {\n",
              "        vertical-align: top;\n",
              "    }\n",
              "\n",
              "    .dataframe thead th {\n",
              "        text-align: right;\n",
              "    }\n",
              "</style>\n",
              "<table border=\"1\" class=\"dataframe\">\n",
              "  <thead>\n",
              "    <tr style=\"text-align: right;\">\n",
              "      <th></th>\n",
              "      <th>loss</th>\n",
              "      <th>accuracy</th>\n",
              "    </tr>\n",
              "  </thead>\n",
              "  <tbody>\n",
              "    <tr>\n",
              "      <th>0</th>\n",
              "      <td>3.968758</td>\n",
              "      <td>0.083333</td>\n",
              "    </tr>\n",
              "    <tr>\n",
              "      <th>1</th>\n",
              "      <td>3.616942</td>\n",
              "      <td>0.000000</td>\n",
              "    </tr>\n",
              "    <tr>\n",
              "      <th>2</th>\n",
              "      <td>3.276713</td>\n",
              "      <td>0.000000</td>\n",
              "    </tr>\n",
              "    <tr>\n",
              "      <th>3</th>\n",
              "      <td>2.948177</td>\n",
              "      <td>0.000000</td>\n",
              "    </tr>\n",
              "    <tr>\n",
              "      <th>4</th>\n",
              "      <td>2.631409</td>\n",
              "      <td>0.000000</td>\n",
              "    </tr>\n",
              "    <tr>\n",
              "      <th>5</th>\n",
              "      <td>2.326434</td>\n",
              "      <td>0.000000</td>\n",
              "    </tr>\n",
              "    <tr>\n",
              "      <th>6</th>\n",
              "      <td>2.033239</td>\n",
              "      <td>0.000000</td>\n",
              "    </tr>\n",
              "    <tr>\n",
              "      <th>7</th>\n",
              "      <td>1.752090</td>\n",
              "      <td>0.000000</td>\n",
              "    </tr>\n",
              "    <tr>\n",
              "      <th>8</th>\n",
              "      <td>1.482598</td>\n",
              "      <td>0.000000</td>\n",
              "    </tr>\n",
              "    <tr>\n",
              "      <th>9</th>\n",
              "      <td>1.224565</td>\n",
              "      <td>0.000000</td>\n",
              "    </tr>\n",
              "    <tr>\n",
              "      <th>10</th>\n",
              "      <td>0.977801</td>\n",
              "      <td>0.000000</td>\n",
              "    </tr>\n",
              "    <tr>\n",
              "      <th>11</th>\n",
              "      <td>0.743257</td>\n",
              "      <td>0.000000</td>\n",
              "    </tr>\n",
              "    <tr>\n",
              "      <th>12</th>\n",
              "      <td>0.520047</td>\n",
              "      <td>0.000000</td>\n",
              "    </tr>\n",
              "    <tr>\n",
              "      <th>13</th>\n",
              "      <td>0.307233</td>\n",
              "      <td>0.000000</td>\n",
              "    </tr>\n",
              "    <tr>\n",
              "      <th>14</th>\n",
              "      <td>0.106035</td>\n",
              "      <td>0.000000</td>\n",
              "    </tr>\n",
              "    <tr>\n",
              "      <th>15</th>\n",
              "      <td>-0.083841</td>\n",
              "      <td>0.000000</td>\n",
              "    </tr>\n",
              "    <tr>\n",
              "      <th>16</th>\n",
              "      <td>-0.264548</td>\n",
              "      <td>0.000000</td>\n",
              "    </tr>\n",
              "    <tr>\n",
              "      <th>17</th>\n",
              "      <td>-0.432406</td>\n",
              "      <td>0.000000</td>\n",
              "    </tr>\n",
              "    <tr>\n",
              "      <th>18</th>\n",
              "      <td>-0.591701</td>\n",
              "      <td>0.000000</td>\n",
              "    </tr>\n",
              "    <tr>\n",
              "      <th>19</th>\n",
              "      <td>-0.739369</td>\n",
              "      <td>0.000000</td>\n",
              "    </tr>\n",
              "    <tr>\n",
              "      <th>20</th>\n",
              "      <td>-0.878360</td>\n",
              "      <td>0.000000</td>\n",
              "    </tr>\n",
              "    <tr>\n",
              "      <th>21</th>\n",
              "      <td>-1.006615</td>\n",
              "      <td>0.000000</td>\n",
              "    </tr>\n",
              "    <tr>\n",
              "      <th>22</th>\n",
              "      <td>-1.127746</td>\n",
              "      <td>0.000000</td>\n",
              "    </tr>\n",
              "    <tr>\n",
              "      <th>23</th>\n",
              "      <td>-1.237927</td>\n",
              "      <td>0.000000</td>\n",
              "    </tr>\n",
              "    <tr>\n",
              "      <th>24</th>\n",
              "      <td>-1.343993</td>\n",
              "      <td>0.000000</td>\n",
              "    </tr>\n",
              "  </tbody>\n",
              "</table>\n",
              "</div>"
            ],
            "text/plain": [
              "        loss  accuracy\n",
              "0   3.968758  0.083333\n",
              "1   3.616942  0.000000\n",
              "2   3.276713  0.000000\n",
              "3   2.948177  0.000000\n",
              "4   2.631409  0.000000\n",
              "5   2.326434  0.000000\n",
              "6   2.033239  0.000000\n",
              "7   1.752090  0.000000\n",
              "8   1.482598  0.000000\n",
              "9   1.224565  0.000000\n",
              "10  0.977801  0.000000\n",
              "11  0.743257  0.000000\n",
              "12  0.520047  0.000000\n",
              "13  0.307233  0.000000\n",
              "14  0.106035  0.000000\n",
              "15 -0.083841  0.000000\n",
              "16 -0.264548  0.000000\n",
              "17 -0.432406  0.000000\n",
              "18 -0.591701  0.000000\n",
              "19 -0.739369  0.000000\n",
              "20 -0.878360  0.000000\n",
              "21 -1.006615  0.000000\n",
              "22 -1.127746  0.000000\n",
              "23 -1.237927  0.000000\n",
              "24 -1.343993  0.000000"
            ]
          },
          "metadata": {},
          "execution_count": 81
        }
      ]
    },
    {
      "cell_type": "code",
      "metadata": {
        "colab": {
          "base_uri": "https://localhost:8080/"
        },
        "id": "JGsLHJU5NOQI",
        "outputId": "84f832c3-ae9d-46bd-93e6-8f4e576293f5"
      },
      "source": [
        "pd.DataFrame(history.history).plot()\n",
        "plt.title(\"Model_2 training curves\")"
      ],
      "execution_count": null,
      "outputs": [
        {
          "output_type": "execute_result",
          "data": {
            "text/plain": [
              "Text(0.5, 1.0, 'Model_2 training curves')"
            ]
          },
          "metadata": {},
          "execution_count": 82
        },
        {
          "output_type": "display_data",
          "data": {
            "image/png": "[encoded data removed]",
            "text/plain": [
              "<Figure size 432x288 with 1 Axes>"
            ]
          },
          "metadata": {
            "needs_background": "light"
          }
        }
      ]
    },
    {
      "cell_type": "code",
      "metadata": {
        "colab": {
          "base_uri": "https://localhost:8080/"
        },
        "id": "gD_KbwLhNOQI",
        "outputId": "d0a308b7-eb03-4653-d105-80f6f2110b48"
      },
      "source": [
        "input_shape = x[0].shape \n",
        "output_shape = y1[0].shape\n",
        "input_shape, output_shape \n",
        "\n",
        "tf.random.set_seed(42)\n",
        "\n",
        "model = tf.keras.Sequential([\n",
        "  tf.keras.layers.Dense(1)\n",
        "])\n",
        "\n",
        "model.compile(loss=tf.keras.losses.mae,\n",
        "              optimizer=tf.keras.optimizers.SGD(),\n",
        "              metrics=[\"mae\"])\n",
        "\n",
        "model.fit(x, y1, epochs=80)"
      ],
      "execution_count": null,
      "outputs": [
        {
          "output_type": "stream",
          "name": "stdout",
          "text": [
            "Epoch 1/80\n",
            "1/1 [==============================] - 0s 253ms/step - loss: 2.5573 - mae: 2.5573\n",
            "Epoch 2/80\n",
            "1/1 [==============================] - 0s 8ms/step - loss: 2.4741 - mae: 2.4741\n",
            "Epoch 3/80\n",
            "1/1 [==============================] - 0s 8ms/step - loss: 2.3915 - mae: 2.3915\n",
            "Epoch 4/80\n",
            "1/1 [==============================] - 0s 6ms/step - loss: 2.3089 - mae: 2.3089\n",
            "Epoch 5/80\n",
            "1/1 [==============================] - 0s 3ms/step - loss: 2.2264 - mae: 2.2264\n",
            "Epoch 6/80\n",
            "1/1 [==============================] - 0s 7ms/step - loss: 2.1438 - mae: 2.1438\n",
            "Epoch 7/80\n",
            "1/1 [==============================] - 0s 9ms/step - loss: 2.0612 - mae: 2.0612\n",
            "Epoch 8/80\n",
            "1/1 [==============================] - 0s 8ms/step - loss: 1.9787 - mae: 1.9787\n",
            "Epoch 9/80\n",
            "1/1 [==============================] - 0s 4ms/step - loss: 1.8961 - mae: 1.8961\n",
            "Epoch 10/80\n",
            "1/1 [==============================] - 0s 5ms/step - loss: 1.8135 - mae: 1.8135\n",
            "Epoch 11/80\n",
            "1/1 [==============================] - 0s 5ms/step - loss: 1.7309 - mae: 1.7309\n",
            "Epoch 12/80\n",
            "1/1 [==============================] - 0s 8ms/step - loss: 1.6484 - mae: 1.6484\n",
            "Epoch 13/80\n",
            "1/1 [==============================] - 0s 4ms/step - loss: 1.5658 - mae: 1.5658\n",
            "Epoch 14/80\n",
            "1/1 [==============================] - 0s 4ms/step - loss: 1.4832 - mae: 1.4832\n",
            "Epoch 15/80\n",
            "1/1 [==============================] - 0s 8ms/step - loss: 1.4007 - mae: 1.4007\n",
            "Epoch 16/80\n",
            "1/1 [==============================] - 0s 9ms/step - loss: 1.3181 - mae: 1.3181\n",
            "Epoch 17/80\n",
            "1/1 [==============================] - 0s 4ms/step - loss: 1.2355 - mae: 1.2355\n",
            "Epoch 18/80\n",
            "1/1 [==============================] - 0s 4ms/step - loss: 1.1530 - mae: 1.1530\n",
            "Epoch 19/80\n",
            "1/1 [==============================] - 0s 5ms/step - loss: 1.0704 - mae: 1.0704\n",
            "Epoch 20/80\n",
            "1/1 [==============================] - 0s 5ms/step - loss: 0.9878 - mae: 0.9878\n",
            "Epoch 21/80\n",
            "1/1 [==============================] - 0s 6ms/step - loss: 0.9053 - mae: 0.9053\n",
            "Epoch 22/80\n",
            "1/1 [==============================] - 0s 5ms/step - loss: 0.8227 - mae: 0.8227\n",
            "Epoch 23/80\n",
            "1/1 [==============================] - 0s 5ms/step - loss: 0.7437 - mae: 0.7437\n",
            "Epoch 24/80\n",
            "1/1 [==============================] - 0s 7ms/step - loss: 0.6682 - mae: 0.6682\n",
            "Epoch 25/80\n",
            "1/1 [==============================] - 0s 5ms/step - loss: 0.5926 - mae: 0.5926\n",
            "Epoch 26/80\n",
            "1/1 [==============================] - 0s 6ms/step - loss: 0.5171 - mae: 0.5171\n",
            "Epoch 27/80\n",
            "1/1 [==============================] - 0s 4ms/step - loss: 0.4415 - mae: 0.4415\n",
            "Epoch 28/80\n",
            "1/1 [==============================] - 0s 7ms/step - loss: 0.3703 - mae: 0.3703\n",
            "Epoch 29/80\n",
            "1/1 [==============================] - 0s 4ms/step - loss: 0.3053 - mae: 0.3053\n",
            "Epoch 30/80\n",
            "1/1 [==============================] - 0s 4ms/step - loss: 0.2428 - mae: 0.2428\n",
            "Epoch 31/80\n",
            "1/1 [==============================] - 0s 4ms/step - loss: 0.1910 - mae: 0.1910\n",
            "Epoch 32/80\n",
            "1/1 [==============================] - 0s 5ms/step - loss: 0.1461 - mae: 0.1461\n",
            "Epoch 33/80\n",
            "1/1 [==============================] - 0s 6ms/step - loss: 0.1167 - mae: 0.1167\n",
            "Epoch 34/80\n",
            "1/1 [==============================] - 0s 5ms/step - loss: 0.1065 - mae: 0.1065\n",
            "Epoch 35/80\n",
            "1/1 [==============================] - 0s 8ms/step - loss: 0.1019 - mae: 0.1019\n",
            "Epoch 36/80\n",
            "1/1 [==============================] - 0s 9ms/step - loss: 0.1008 - mae: 0.1008\n",
            "Epoch 37/80\n",
            "1/1 [==============================] - 0s 5ms/step - loss: 0.0981 - mae: 0.0981\n",
            "Epoch 38/80\n",
            "1/1 [==============================] - 0s 8ms/step - loss: 0.0973 - mae: 0.0973\n",
            "Epoch 39/80\n",
            "1/1 [==============================] - 0s 6ms/step - loss: 0.0945 - mae: 0.0945\n",
            "Epoch 40/80\n",
            "1/1 [==============================] - 0s 10ms/step - loss: 0.0938 - mae: 0.0938\n",
            "Epoch 41/80\n",
            "1/1 [==============================] - 0s 7ms/step - loss: 0.0910 - mae: 0.0910\n",
            "Epoch 42/80\n",
            "1/1 [==============================] - 0s 8ms/step - loss: 0.0900 - mae: 0.0900\n",
            "Epoch 43/80\n",
            "1/1 [==============================] - 0s 4ms/step - loss: 0.0875 - mae: 0.0875\n",
            "Epoch 44/80\n",
            "1/1 [==============================] - 0s 14ms/step - loss: 0.0863 - mae: 0.0863\n",
            "Epoch 45/80\n",
            "1/1 [==============================] - 0s 6ms/step - loss: 0.0841 - mae: 0.0841\n",
            "Epoch 46/80\n",
            "1/1 [==============================] - 0s 18ms/step - loss: 0.0825 - mae: 0.0825\n",
            "Epoch 47/80\n",
            "1/1 [==============================] - 0s 4ms/step - loss: 0.0806 - mae: 0.0806\n",
            "Epoch 48/80\n",
            "1/1 [==============================] - 0s 4ms/step - loss: 0.0788 - mae: 0.0788\n",
            "Epoch 49/80\n",
            "1/1 [==============================] - 0s 4ms/step - loss: 0.0771 - mae: 0.0771\n",
            "Epoch 50/80\n",
            "1/1 [==============================] - 0s 3ms/step - loss: 0.0750 - mae: 0.0750\n",
            "Epoch 51/80\n",
            "1/1 [==============================] - 0s 4ms/step - loss: 0.0737 - mae: 0.0737\n",
            "Epoch 52/80\n",
            "1/1 [==============================] - 0s 4ms/step - loss: 0.0713 - mae: 0.0713\n",
            "Epoch 53/80\n",
            "1/1 [==============================] - 0s 4ms/step - loss: 0.0702 - mae: 0.0702\n",
            "Epoch 54/80\n",
            "1/1 [==============================] - 0s 6ms/step - loss: 0.0675 - mae: 0.0675\n",
            "Epoch 55/80\n",
            "1/1 [==============================] - 0s 3ms/step - loss: 0.0667 - mae: 0.0667\n",
            "Epoch 56/80\n",
            "1/1 [==============================] - 0s 3ms/step - loss: 0.0639 - mae: 0.0639\n",
            "Epoch 57/80\n",
            "1/1 [==============================] - 0s 5ms/step - loss: 0.0631 - mae: 0.0631\n",
            "Epoch 58/80\n",
            "1/1 [==============================] - 0s 5ms/step - loss: 0.0604 - mae: 0.0604\n",
            "Epoch 59/80\n",
            "1/1 [==============================] - 0s 15ms/step - loss: 0.0594 - mae: 0.0594\n",
            "Epoch 60/80\n",
            "1/1 [==============================] - 0s 4ms/step - loss: 0.0569 - mae: 0.0569\n",
            "Epoch 61/80\n",
            "1/1 [==============================] - 0s 4ms/step - loss: 0.0556 - mae: 0.0556\n",
            "Epoch 62/80\n",
            "1/1 [==============================] - 0s 4ms/step - loss: 0.0534 - mae: 0.0534\n",
            "Epoch 63/80\n",
            "1/1 [==============================] - 0s 7ms/step - loss: 0.0519 - mae: 0.0519\n",
            "Epoch 64/80\n",
            "1/1 [==============================] - 0s 5ms/step - loss: 0.0500 - mae: 0.0500\n",
            "Epoch 65/80\n",
            "1/1 [==============================] - 0s 5ms/step - loss: 0.0481 - mae: 0.0481\n",
            "Epoch 66/80\n",
            "1/1 [==============================] - 0s 6ms/step - loss: 0.0465 - mae: 0.0465\n",
            "Epoch 67/80\n",
            "1/1 [==============================] - 0s 4ms/step - loss: 0.0444 - mae: 0.0444\n",
            "Epoch 68/80\n",
            "1/1 [==============================] - 0s 9ms/step - loss: 0.0430 - mae: 0.0430\n",
            "Epoch 69/80\n",
            "1/1 [==============================] - 0s 5ms/step - loss: 0.0406 - mae: 0.0406\n",
            "Epoch 70/80\n",
            "1/1 [==============================] - 0s 5ms/step - loss: 0.0396 - mae: 0.0396\n",
            "Epoch 71/80\n",
            "1/1 [==============================] - 0s 4ms/step - loss: 0.0369 - mae: 0.0369\n",
            "Epoch 72/80\n",
            "1/1 [==============================] - 0s 6ms/step - loss: 0.0365 - mae: 0.0365\n",
            "Epoch 73/80\n",
            "1/1 [==============================] - 0s 7ms/step - loss: 0.0410 - mae: 0.0410\n",
            "Epoch 74/80\n",
            "1/1 [==============================] - 0s 9ms/step - loss: 0.0692 - mae: 0.0692\n",
            "Epoch 75/80\n",
            "1/1 [==============================] - 0s 9ms/step - loss: 0.0312 - mae: 0.0312\n",
            "Epoch 76/80\n",
            "1/1 [==============================] - 0s 8ms/step - loss: 0.0309 - mae: 0.0309\n",
            "Epoch 77/80\n",
            "1/1 [==============================] - 0s 2ms/step - loss: 0.0362 - mae: 0.0362\n",
            "Epoch 78/80\n",
            "1/1 [==============================] - 0s 4ms/step - loss: 0.0358 - mae: 0.0358\n",
            "Epoch 79/80\n",
            "1/1 [==============================] - 0s 6ms/step - loss: 0.0661 - mae: 0.0661\n",
            "Epoch 80/80\n",
            "1/1 [==============================] - 0s 10ms/step - loss: 0.0256 - mae: 0.0256\n"
          ]
        },
        {
          "output_type": "execute_result",
          "data": {
            "text/plain": [
              "<keras.callbacks.History at 0x7fd6e00ad210>"
            ]
          },
          "metadata": {},
          "execution_count": 83
        }
      ]
    },
    {
      "cell_type": "code",
      "metadata": {
        "colab": {
          "base_uri": "https://localhost:8080/"
        },
        "id": "m4mjx1YhNOQJ",
        "outputId": "dce7c025-c6e4-47d4-e6e1-1e8f6dff0957"
      },
      "source": [
        "X_train = x[:80]\n",
        "y_train = y1[:80]\n",
        "\n",
        "X_test = x[80:] \n",
        "y_test = y1[80:]\n",
        "\n",
        "len(X_train), len(X_test)"
      ],
      "execution_count": null,
      "outputs": [
        {
          "output_type": "execute_result",
          "data": {
            "text/plain": [
              "(12, 0)"
            ]
          },
          "metadata": {},
          "execution_count": 84
        }
      ]
    },
    {
      "cell_type": "code",
      "metadata": {
        "colab": {
          "base_uri": "https://localhost:8080/"
        },
        "id": "fmEizUEdNOQJ",
        "outputId": "ba5ebd85-fdcb-4aad-8487-804281cfcd7c"
      },
      "source": [
        "plt.figure(figsize=(15, 10))\n",
        "plt.scatter(X_train, y_train, c='b', label='Training data')\n",
        "plt.scatter(X_test, y_test, c='g', label='Testing data')\n",
        "plt.legend()"
      ],
      "execution_count": null,
      "outputs": [
        {
          "output_type": "execute_result",
          "data": {
            "text/plain": [
              "<matplotlib.legend.Legend at 0x7fd6dffab450>"
            ]
          },
          "metadata": {},
          "execution_count": 85
        },
        {
          "output_type": "display_data",
          "data": {
            "image/png": "[encoded data removed]",
            "text/plain": [
              "<Figure size 1080x720 with 1 Axes>"
            ]
          },
          "metadata": {
            "needs_background": "light"
          }
        }
      ]
    },
    {
      "cell_type": "code",
      "metadata": {
        "colab": {
          "base_uri": "https://localhost:8080/"
        },
        "id": "8EuxiiFwNOQJ",
        "outputId": "77dadfe2-8c23-4280-d1aa-a3752b5efdda"
      },
      "source": [
        "model.summary()"
      ],
      "execution_count": null,
      "outputs": [
        {
          "output_type": "stream",
          "name": "stdout",
          "text": [
            "Model: \"sequential_10\"\n",
            "_________________________________________________________________\n",
            "Layer (type)                 Output Shape              Param #   \n",
            "=================================================================\n",
            "dense_28 (Dense)             (None, 1)                 2         \n",
            "=================================================================\n",
            "Total params: 2\n",
            "Trainable params: 2\n",
            "Non-trainable params: 0\n",
            "_________________________________________________________________\n"
          ]
        }
      ]
    },
    {
      "cell_type": "code",
      "metadata": {
        "colab": {
          "base_uri": "https://localhost:8080/"
        },
        "id": "cAwNdV82NOQJ",
        "outputId": "a66caa40-e962-4008-ca5e-26e4529f7cf5"
      },
      "source": [
        "model.fit(X_train, y_train, epochs=80, verbose=0)"
      ],
      "execution_count": null,
      "outputs": [
        {
          "output_type": "execute_result",
          "data": {
            "text/plain": [
              "<keras.callbacks.History at 0x7fd6e00b3fd0>"
            ]
          },
          "metadata": {},
          "execution_count": 87
        }
      ]
    },
    {
      "cell_type": "code",
      "metadata": {
        "colab": {
          "base_uri": "https://localhost:8080/"
        },
        "id": "NAbJDI-uNOQJ",
        "outputId": "51d49398-83fa-4123-cbda-46b800bca832"
      },
      "source": [
        "model.predict([20.0])"
      ],
      "execution_count": null,
      "outputs": [
        {
          "output_type": "execute_result",
          "data": {
            "text/plain": [
              "array([[29.533686]], dtype=float32)"
            ]
          },
          "metadata": {},
          "execution_count": 88
        }
      ]
    },
    {
      "cell_type": "markdown",
      "metadata": {
        "id": "4EnNQ1OEO_Z6"
      },
      "source": [
        "#4. Відповіді оформити .ipynb документом\n",
        "#5. Викласти у зазначений репозіторій GitHub в окремій папці з назвою Lab4 де має бути .ipynb файл та необхідні файли з даними"
      ]
    }
  ]
}