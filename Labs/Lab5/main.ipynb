{
  "nbformat": 4,
  "nbformat_minor": 0,
  "metadata": {
    "orig_nbformat": 4,
    "language_info": {
      "name": "python",
      "version": "3.8.8",
      "mimetype": "text/x-python",
      "codemirror_mode": {
        "name": "ipython",
        "version": 3
      },
      "pygments_lexer": "ipython3",
      "nbconvert_exporter": "python",
      "file_extension": ".py"
    },
    "kernelspec": {
      "name": "python3",
      "display_name": "Python 3.8.8 64-bit ('base': conda)"
    },
    "interpreter": {
      "hash": "07efdcd4b820c98a756949507a4d29d7862823915ec7477944641bea022f4f62"
    },
    "colab": {
      "name": "main.ipynb",
      "provenance": [],
      "collapsed_sections": []
    }
  },
  "cells": [
    {
      "cell_type": "markdown",
      "metadata": {
        "id": "O-mRl8W6KHQZ"
      },
      "source": [
        "# **Лабораторна робота №5**\n",
        "# **МІТ-31**\n",
        "# **Ковальський Олександр**"
      ]
    },
    {
      "cell_type": "code",
      "metadata": {
        "id": "IR0sh9eYKHQd"
      },
      "source": [
        "import tensorflow as tf\n",
        "import matplotlib.pyplot as plt\n",
        "import numpy as np\n",
        "import pandas as pd\n",
        "from tensorflow.keras.optimizers import SGD, Adam\n",
        "from tensorflow.keras.losses import mae, mse"
      ],
      "execution_count": null,
      "outputs": []
    },
    {
      "cell_type": "markdown",
      "metadata": {
        "id": "c0nn3016Kbym"
      },
      "source": [
        "#1.  Виконати вирішення задач регресії та класифікації для наборів даних, що використовувалися в лабораторних роботах 2,3 з використанням Tensorflow & NN"
      ]
    },
    {
      "cell_type": "code",
      "metadata": {
        "colab": {
          "base_uri": "https://localhost:8080/",
          "height": 419
        },
        "id": "VC073BF8KHQf",
        "outputId": "c268d96b-1f94-452c-bd9b-14a0cf393dbd"
      },
      "source": [
        "model_1 = pd.read_csv(\"./data.csv\")\n",
        "model_1"
      ],
      "execution_count": null,
      "outputs": [
        {
          "output_type": "execute_result",
          "data": {
            "text/html": [
              "<div>\n",
              "<style scoped>\n",
              "    .dataframe tbody tr th:only-of-type {\n",
              "        vertical-align: middle;\n",
              "    }\n",
              "\n",
              "    .dataframe tbody tr th {\n",
              "        vertical-align: top;\n",
              "    }\n",
              "\n",
              "    .dataframe thead th {\n",
              "        text-align: right;\n",
              "    }\n",
              "</style>\n",
              "<table border=\"1\" class=\"dataframe\">\n",
              "  <thead>\n",
              "    <tr style=\"text-align: right;\">\n",
              "      <th></th>\n",
              "      <th>Unnamed: 0</th>\n",
              "      <th>salary</th>\n",
              "      <th>age</th>\n",
              "      <th>degree</th>\n",
              "      <th>gender</th>\n",
              "      <th>credits</th>\n",
              "      <th>is_gamer</th>\n",
              "    </tr>\n",
              "  </thead>\n",
              "  <tbody>\n",
              "    <tr>\n",
              "      <th>0</th>\n",
              "      <td>0</td>\n",
              "      <td>3996</td>\n",
              "      <td>0</td>\n",
              "      <td>0</td>\n",
              "      <td>1</td>\n",
              "      <td>1</td>\n",
              "      <td>0</td>\n",
              "    </tr>\n",
              "    <tr>\n",
              "      <th>1</th>\n",
              "      <td>1</td>\n",
              "      <td>1016</td>\n",
              "      <td>1</td>\n",
              "      <td>0</td>\n",
              "      <td>0</td>\n",
              "      <td>0</td>\n",
              "      <td>0</td>\n",
              "    </tr>\n",
              "    <tr>\n",
              "      <th>2</th>\n",
              "      <td>2</td>\n",
              "      <td>420</td>\n",
              "      <td>0</td>\n",
              "      <td>1</td>\n",
              "      <td>0</td>\n",
              "      <td>1</td>\n",
              "      <td>1</td>\n",
              "    </tr>\n",
              "    <tr>\n",
              "      <th>3</th>\n",
              "      <td>3</td>\n",
              "      <td>2893</td>\n",
              "      <td>1</td>\n",
              "      <td>1</td>\n",
              "      <td>0</td>\n",
              "      <td>0</td>\n",
              "      <td>1</td>\n",
              "    </tr>\n",
              "    <tr>\n",
              "      <th>4</th>\n",
              "      <td>4</td>\n",
              "      <td>4010</td>\n",
              "      <td>1</td>\n",
              "      <td>0</td>\n",
              "      <td>0</td>\n",
              "      <td>1</td>\n",
              "      <td>1</td>\n",
              "    </tr>\n",
              "    <tr>\n",
              "      <th>...</th>\n",
              "      <td>...</td>\n",
              "      <td>...</td>\n",
              "      <td>...</td>\n",
              "      <td>...</td>\n",
              "      <td>...</td>\n",
              "      <td>...</td>\n",
              "      <td>...</td>\n",
              "    </tr>\n",
              "    <tr>\n",
              "      <th>328</th>\n",
              "      <td>328</td>\n",
              "      <td>4783</td>\n",
              "      <td>1</td>\n",
              "      <td>1</td>\n",
              "      <td>0</td>\n",
              "      <td>1</td>\n",
              "      <td>1</td>\n",
              "    </tr>\n",
              "    <tr>\n",
              "      <th>329</th>\n",
              "      <td>329</td>\n",
              "      <td>3276</td>\n",
              "      <td>0</td>\n",
              "      <td>0</td>\n",
              "      <td>0</td>\n",
              "      <td>0</td>\n",
              "      <td>1</td>\n",
              "    </tr>\n",
              "    <tr>\n",
              "      <th>330</th>\n",
              "      <td>330</td>\n",
              "      <td>2353</td>\n",
              "      <td>1</td>\n",
              "      <td>1</td>\n",
              "      <td>1</td>\n",
              "      <td>0</td>\n",
              "      <td>1</td>\n",
              "    </tr>\n",
              "    <tr>\n",
              "      <th>331</th>\n",
              "      <td>331</td>\n",
              "      <td>4522</td>\n",
              "      <td>0</td>\n",
              "      <td>0</td>\n",
              "      <td>0</td>\n",
              "      <td>1</td>\n",
              "      <td>0</td>\n",
              "    </tr>\n",
              "    <tr>\n",
              "      <th>332</th>\n",
              "      <td>332</td>\n",
              "      <td>1097</td>\n",
              "      <td>0</td>\n",
              "      <td>1</td>\n",
              "      <td>0</td>\n",
              "      <td>1</td>\n",
              "      <td>0</td>\n",
              "    </tr>\n",
              "  </tbody>\n",
              "</table>\n",
              "<p>333 rows × 7 columns</p>\n",
              "</div>"
            ],
            "text/plain": [
              "     Unnamed: 0  salary  age  degree  gender  credits  is_gamer\n",
              "0             0    3996    0       0       1        1         0\n",
              "1             1    1016    1       0       0        0         0\n",
              "2             2     420    0       1       0        1         1\n",
              "3             3    2893    1       1       0        0         1\n",
              "4             4    4010    1       0       0        1         1\n",
              "..          ...     ...  ...     ...     ...      ...       ...\n",
              "328         328    4783    1       1       0        1         1\n",
              "329         329    3276    0       0       0        0         1\n",
              "330         330    2353    1       1       1        0         1\n",
              "331         331    4522    0       0       0        1         0\n",
              "332         332    1097    0       1       0        1         0\n",
              "\n",
              "[333 rows x 7 columns]"
            ]
          },
          "metadata": {},
          "execution_count": 112
        }
      ]
    },
    {
      "cell_type": "code",
      "metadata": {
        "colab": {
          "base_uri": "https://localhost:8080/",
          "height": 204
        },
        "id": "E2ea67IaKHQf",
        "outputId": "33431eaa-901b-4e88-c27a-9d612e44a7d4"
      },
      "source": [
        "insurance = model_1\n",
        "insurance.head()"
      ],
      "execution_count": null,
      "outputs": [
        {
          "output_type": "execute_result",
          "data": {
            "text/html": [
              "<div>\n",
              "<style scoped>\n",
              "    .dataframe tbody tr th:only-of-type {\n",
              "        vertical-align: middle;\n",
              "    }\n",
              "\n",
              "    .dataframe tbody tr th {\n",
              "        vertical-align: top;\n",
              "    }\n",
              "\n",
              "    .dataframe thead th {\n",
              "        text-align: right;\n",
              "    }\n",
              "</style>\n",
              "<table border=\"1\" class=\"dataframe\">\n",
              "  <thead>\n",
              "    <tr style=\"text-align: right;\">\n",
              "      <th></th>\n",
              "      <th>Unnamed: 0</th>\n",
              "      <th>salary</th>\n",
              "      <th>age</th>\n",
              "      <th>degree</th>\n",
              "      <th>gender</th>\n",
              "      <th>credits</th>\n",
              "      <th>is_gamer</th>\n",
              "    </tr>\n",
              "  </thead>\n",
              "  <tbody>\n",
              "    <tr>\n",
              "      <th>0</th>\n",
              "      <td>0</td>\n",
              "      <td>3996</td>\n",
              "      <td>0</td>\n",
              "      <td>0</td>\n",
              "      <td>1</td>\n",
              "      <td>1</td>\n",
              "      <td>0</td>\n",
              "    </tr>\n",
              "    <tr>\n",
              "      <th>1</th>\n",
              "      <td>1</td>\n",
              "      <td>1016</td>\n",
              "      <td>1</td>\n",
              "      <td>0</td>\n",
              "      <td>0</td>\n",
              "      <td>0</td>\n",
              "      <td>0</td>\n",
              "    </tr>\n",
              "    <tr>\n",
              "      <th>2</th>\n",
              "      <td>2</td>\n",
              "      <td>420</td>\n",
              "      <td>0</td>\n",
              "      <td>1</td>\n",
              "      <td>0</td>\n",
              "      <td>1</td>\n",
              "      <td>1</td>\n",
              "    </tr>\n",
              "    <tr>\n",
              "      <th>3</th>\n",
              "      <td>3</td>\n",
              "      <td>2893</td>\n",
              "      <td>1</td>\n",
              "      <td>1</td>\n",
              "      <td>0</td>\n",
              "      <td>0</td>\n",
              "      <td>1</td>\n",
              "    </tr>\n",
              "    <tr>\n",
              "      <th>4</th>\n",
              "      <td>4</td>\n",
              "      <td>4010</td>\n",
              "      <td>1</td>\n",
              "      <td>0</td>\n",
              "      <td>0</td>\n",
              "      <td>1</td>\n",
              "      <td>1</td>\n",
              "    </tr>\n",
              "  </tbody>\n",
              "</table>\n",
              "</div>"
            ],
            "text/plain": [
              "   Unnamed: 0  salary  age  degree  gender  credits  is_gamer\n",
              "0           0    3996    0       0       1        1         0\n",
              "1           1    1016    1       0       0        0         0\n",
              "2           2     420    0       1       0        1         1\n",
              "3           3    2893    1       1       0        0         1\n",
              "4           4    4010    1       0       0        1         1"
            ]
          },
          "metadata": {},
          "execution_count": 113
        }
      ]
    },
    {
      "cell_type": "code",
      "metadata": {
        "colab": {
          "base_uri": "https://localhost:8080/"
        },
        "id": "uJqSBGj_KHQg",
        "outputId": "8d7b9833-f366-4871-9312-1f0073510114"
      },
      "source": [
        "insurance.isna().sum()"
      ],
      "execution_count": null,
      "outputs": [
        {
          "output_type": "execute_result",
          "data": {
            "text/plain": [
              "Unnamed: 0    0\n",
              "salary        0\n",
              "age           0\n",
              "degree        0\n",
              "gender        0\n",
              "credits       0\n",
              "is_gamer      0\n",
              "dtype: int64"
            ]
          },
          "metadata": {},
          "execution_count": 114
        }
      ]
    },
    {
      "cell_type": "code",
      "metadata": {
        "colab": {
          "base_uri": "https://localhost:8080/",
          "height": 142
        },
        "id": "D8n9zVuDKHQg",
        "outputId": "9a6757d1-7ee1-4982-aa2b-0e562cfc8617"
      },
      "source": [
        "insurance=pd.get_dummies(insurance)\n",
        "\n",
        "insurance.head(3)"
      ],
      "execution_count": null,
      "outputs": [
        {
          "output_type": "execute_result",
          "data": {
            "text/html": [
              "<div>\n",
              "<style scoped>\n",
              "    .dataframe tbody tr th:only-of-type {\n",
              "        vertical-align: middle;\n",
              "    }\n",
              "\n",
              "    .dataframe tbody tr th {\n",
              "        vertical-align: top;\n",
              "    }\n",
              "\n",
              "    .dataframe thead th {\n",
              "        text-align: right;\n",
              "    }\n",
              "</style>\n",
              "<table border=\"1\" class=\"dataframe\">\n",
              "  <thead>\n",
              "    <tr style=\"text-align: right;\">\n",
              "      <th></th>\n",
              "      <th>Unnamed: 0</th>\n",
              "      <th>salary</th>\n",
              "      <th>age</th>\n",
              "      <th>degree</th>\n",
              "      <th>gender</th>\n",
              "      <th>credits</th>\n",
              "      <th>is_gamer</th>\n",
              "    </tr>\n",
              "  </thead>\n",
              "  <tbody>\n",
              "    <tr>\n",
              "      <th>0</th>\n",
              "      <td>0</td>\n",
              "      <td>3996</td>\n",
              "      <td>0</td>\n",
              "      <td>0</td>\n",
              "      <td>1</td>\n",
              "      <td>1</td>\n",
              "      <td>0</td>\n",
              "    </tr>\n",
              "    <tr>\n",
              "      <th>1</th>\n",
              "      <td>1</td>\n",
              "      <td>1016</td>\n",
              "      <td>1</td>\n",
              "      <td>0</td>\n",
              "      <td>0</td>\n",
              "      <td>0</td>\n",
              "      <td>0</td>\n",
              "    </tr>\n",
              "    <tr>\n",
              "      <th>2</th>\n",
              "      <td>2</td>\n",
              "      <td>420</td>\n",
              "      <td>0</td>\n",
              "      <td>1</td>\n",
              "      <td>0</td>\n",
              "      <td>1</td>\n",
              "      <td>1</td>\n",
              "    </tr>\n",
              "  </tbody>\n",
              "</table>\n",
              "</div>"
            ],
            "text/plain": [
              "   Unnamed: 0  salary  age  degree  gender  credits  is_gamer\n",
              "0           0    3996    0       0       1        1         0\n",
              "1           1    1016    1       0       0        0         0\n",
              "2           2     420    0       1       0        1         1"
            ]
          },
          "metadata": {},
          "execution_count": 115
        }
      ]
    },
    {
      "cell_type": "code",
      "metadata": {
        "colab": {
          "base_uri": "https://localhost:8080/"
        },
        "id": "7Umv9jL-KHQh",
        "outputId": "d87f1fbb-36c3-441e-9658-02f1198efe05"
      },
      "source": [
        "X=insurance.drop(\"salary\", axis=1)\n",
        "y=insurance[\"salary\"]\n",
        "\n",
        "X.head(), y.head()"
      ],
      "execution_count": null,
      "outputs": [
        {
          "output_type": "execute_result",
          "data": {
            "text/plain": [
              "(   Unnamed: 0  age  degree  gender  credits  is_gamer\n",
              " 0           0    0       0       1        1         0\n",
              " 1           1    1       0       0        0         0\n",
              " 2           2    0       1       0        1         1\n",
              " 3           3    1       1       0        0         1\n",
              " 4           4    1       0       0        1         1, 0    3996\n",
              " 1    1016\n",
              " 2     420\n",
              " 3    2893\n",
              " 4    4010\n",
              " Name: salary, dtype: int64)"
            ]
          },
          "metadata": {},
          "execution_count": 116
        }
      ]
    },
    {
      "cell_type": "code",
      "metadata": {
        "colab": {
          "base_uri": "https://localhost:8080/"
        },
        "id": "xoz9pFONKHQi",
        "outputId": "d17e1ffd-18df-479d-ffba-79cc08910c13"
      },
      "source": [
        "from sklearn.model_selection import train_test_split \n",
        "X_train,X_test,y_train,y_test = train_test_split(X,y,test_size=0.2,random_state=48)\n",
        "\n",
        "\n",
        "tf.random.set_seed=13\n",
        "\n",
        "ins_model = tf.keras.Sequential([ \n",
        "    tf.keras.layers.Dense(10),\n",
        "    tf.keras.layers.Dense(1)\n",
        "])\n",
        "\n",
        "ins_model.compile(\n",
        "    loss='mse',\n",
        "    optimizer=Adam(),\n",
        "    metrics=['mse']\n",
        ")\n",
        "\n",
        "X_train.shape"
      ],
      "execution_count": null,
      "outputs": [
        {
          "output_type": "execute_result",
          "data": {
            "text/plain": [
              "(266, 6)"
            ]
          },
          "metadata": {},
          "execution_count": 117
        }
      ]
    },
    {
      "cell_type": "code",
      "metadata": {
        "colab": {
          "base_uri": "https://localhost:8080/"
        },
        "id": "4ZykEXBJKHQi",
        "outputId": "bdabd546-6028-4d02-f6ea-1c848b926c1f"
      },
      "source": [
        "ins_history = ins_model.fit(X_train,y_train,epochs=10)"
      ],
      "execution_count": null,
      "outputs": [
        {
          "output_type": "stream",
          "name": "stdout",
          "text": [
            "Epoch 1/10\n",
            "9/9 [==============================] - 0s 2ms/step - loss: 9761922.0000 - mse: 9761922.0000\n",
            "Epoch 2/10\n",
            "9/9 [==============================] - 0s 2ms/step - loss: 9697140.0000 - mse: 9697140.0000\n",
            "Epoch 3/10\n",
            "9/9 [==============================] - 0s 2ms/step - loss: 9634226.0000 - mse: 9634226.0000\n",
            "Epoch 4/10\n",
            "9/9 [==============================] - 0s 2ms/step - loss: 9571232.0000 - mse: 9571232.0000\n",
            "Epoch 5/10\n",
            "9/9 [==============================] - 0s 2ms/step - loss: 9509084.0000 - mse: 9509084.0000\n",
            "Epoch 6/10\n",
            "9/9 [==============================] - 0s 3ms/step - loss: 9449011.0000 - mse: 9449011.0000\n",
            "Epoch 7/10\n",
            "9/9 [==============================] - 0s 2ms/step - loss: 9387305.0000 - mse: 9387305.0000\n",
            "Epoch 8/10\n",
            "9/9 [==============================] - 0s 2ms/step - loss: 9328437.0000 - mse: 9328437.0000\n",
            "Epoch 9/10\n",
            "9/9 [==============================] - 0s 2ms/step - loss: 9269171.0000 - mse: 9269171.0000\n",
            "Epoch 10/10\n",
            "9/9 [==============================] - 0s 2ms/step - loss: 9210514.0000 - mse: 9210514.0000\n"
          ]
        }
      ]
    },
    {
      "cell_type": "code",
      "metadata": {
        "colab": {
          "base_uri": "https://localhost:8080/"
        },
        "id": "Nj4_saukKHQj",
        "outputId": "a629138f-2c93-43ae-901a-2fb66b610e77"
      },
      "source": [
        "ins_history2 = ins_model.fit(X_train,y_train,epochs=200, verbose=0)\n",
        "\n",
        "score1=ins_model.evaluate(X_test,y_test)"
      ],
      "execution_count": null,
      "outputs": [
        {
          "output_type": "stream",
          "name": "stdout",
          "text": [
            "3/3 [==============================] - 0s 4ms/step - loss: 3519576.0000 - mse: 3519576.0000\n"
          ]
        }
      ]
    },
    {
      "cell_type": "code",
      "metadata": {
        "colab": {
          "base_uri": "https://localhost:8080/",
          "height": 204
        },
        "id": "N1_1RVCOKHQj",
        "outputId": "889653e1-6694-4473-fbd5-5c985c50fe41"
      },
      "source": [
        "ins_model.save(\"model.h5\")\n",
        "\n",
        "ins_model_loaded=tf.keras.models.load_model(\"model.h5\")\n",
        "\n",
        "\n",
        "y1=ins_model.predict(X_test)\n",
        "y2=ins_model_loaded.predict(X_test)\n",
        "\n",
        "(y1-y2).sum()\n",
        "\n",
        "X_train.head()"
      ],
      "execution_count": null,
      "outputs": [
        {
          "output_type": "execute_result",
          "data": {
            "text/html": [
              "<div>\n",
              "<style scoped>\n",
              "    .dataframe tbody tr th:only-of-type {\n",
              "        vertical-align: middle;\n",
              "    }\n",
              "\n",
              "    .dataframe tbody tr th {\n",
              "        vertical-align: top;\n",
              "    }\n",
              "\n",
              "    .dataframe thead th {\n",
              "        text-align: right;\n",
              "    }\n",
              "</style>\n",
              "<table border=\"1\" class=\"dataframe\">\n",
              "  <thead>\n",
              "    <tr style=\"text-align: right;\">\n",
              "      <th></th>\n",
              "      <th>Unnamed: 0</th>\n",
              "      <th>age</th>\n",
              "      <th>degree</th>\n",
              "      <th>gender</th>\n",
              "      <th>credits</th>\n",
              "      <th>is_gamer</th>\n",
              "    </tr>\n",
              "  </thead>\n",
              "  <tbody>\n",
              "    <tr>\n",
              "      <th>58</th>\n",
              "      <td>58</td>\n",
              "      <td>1</td>\n",
              "      <td>1</td>\n",
              "      <td>1</td>\n",
              "      <td>0</td>\n",
              "      <td>1</td>\n",
              "    </tr>\n",
              "    <tr>\n",
              "      <th>259</th>\n",
              "      <td>259</td>\n",
              "      <td>0</td>\n",
              "      <td>1</td>\n",
              "      <td>1</td>\n",
              "      <td>0</td>\n",
              "      <td>1</td>\n",
              "    </tr>\n",
              "    <tr>\n",
              "      <th>95</th>\n",
              "      <td>95</td>\n",
              "      <td>0</td>\n",
              "      <td>0</td>\n",
              "      <td>0</td>\n",
              "      <td>0</td>\n",
              "      <td>0</td>\n",
              "    </tr>\n",
              "    <tr>\n",
              "      <th>131</th>\n",
              "      <td>131</td>\n",
              "      <td>1</td>\n",
              "      <td>0</td>\n",
              "      <td>1</td>\n",
              "      <td>1</td>\n",
              "      <td>0</td>\n",
              "    </tr>\n",
              "    <tr>\n",
              "      <th>286</th>\n",
              "      <td>286</td>\n",
              "      <td>1</td>\n",
              "      <td>1</td>\n",
              "      <td>1</td>\n",
              "      <td>1</td>\n",
              "      <td>0</td>\n",
              "    </tr>\n",
              "  </tbody>\n",
              "</table>\n",
              "</div>"
            ],
            "text/plain": [
              "     Unnamed: 0  age  degree  gender  credits  is_gamer\n",
              "58           58    1       1       1        0         1\n",
              "259         259    0       1       1        0         1\n",
              "95           95    0       0       0        0         0\n",
              "131         131    1       0       1        1         0\n",
              "286         286    1       1       1        1         0"
            ]
          },
          "metadata": {},
          "execution_count": 120
        }
      ]
    },
    {
      "cell_type": "code",
      "metadata": {
        "colab": {
          "base_uri": "https://localhost:8080/",
          "height": 111
        },
        "id": "ahq8jTeCKHQj",
        "outputId": "48fb509c-0682-4515-962d-fa405e0cdaf5"
      },
      "source": [
        "from sklearn.compose import make_column_transformer\n",
        "from sklearn.preprocessing import MinMaxScaler, OneHotEncoder\n",
        "\n",
        "insurance2 = model_1\n",
        "insurance2.head(2)"
      ],
      "execution_count": null,
      "outputs": [
        {
          "output_type": "execute_result",
          "data": {
            "text/html": [
              "<div>\n",
              "<style scoped>\n",
              "    .dataframe tbody tr th:only-of-type {\n",
              "        vertical-align: middle;\n",
              "    }\n",
              "\n",
              "    .dataframe tbody tr th {\n",
              "        vertical-align: top;\n",
              "    }\n",
              "\n",
              "    .dataframe thead th {\n",
              "        text-align: right;\n",
              "    }\n",
              "</style>\n",
              "<table border=\"1\" class=\"dataframe\">\n",
              "  <thead>\n",
              "    <tr style=\"text-align: right;\">\n",
              "      <th></th>\n",
              "      <th>Unnamed: 0</th>\n",
              "      <th>salary</th>\n",
              "      <th>age</th>\n",
              "      <th>degree</th>\n",
              "      <th>gender</th>\n",
              "      <th>credits</th>\n",
              "      <th>is_gamer</th>\n",
              "    </tr>\n",
              "  </thead>\n",
              "  <tbody>\n",
              "    <tr>\n",
              "      <th>0</th>\n",
              "      <td>0</td>\n",
              "      <td>3996</td>\n",
              "      <td>0</td>\n",
              "      <td>0</td>\n",
              "      <td>1</td>\n",
              "      <td>1</td>\n",
              "      <td>0</td>\n",
              "    </tr>\n",
              "    <tr>\n",
              "      <th>1</th>\n",
              "      <td>1</td>\n",
              "      <td>1016</td>\n",
              "      <td>1</td>\n",
              "      <td>0</td>\n",
              "      <td>0</td>\n",
              "      <td>0</td>\n",
              "      <td>0</td>\n",
              "    </tr>\n",
              "  </tbody>\n",
              "</table>\n",
              "</div>"
            ],
            "text/plain": [
              "   Unnamed: 0  salary  age  degree  gender  credits  is_gamer\n",
              "0           0    3996    0       0       1        1         0\n",
              "1           1    1016    1       0       0        0         0"
            ]
          },
          "metadata": {},
          "execution_count": 121
        }
      ]
    },
    {
      "cell_type": "code",
      "metadata": {
        "id": "Gmv2Y66HKHQk"
      },
      "source": [
        "ct = make_column_transformer(\n",
        "    (MinMaxScaler(),[\"age\", \"degree\",\"gender\"]), \n",
        "    (OneHotEncoder(handle_unknown=\"ignore\"),['credits','is_gamer'])\n",
        ")\n",
        "X=insurance2.drop(\"salary\", axis=1)\n",
        "y = insurance2[\"salary\"]\n",
        "\n",
        "X_train,X_test,y_train,y_test = train_test_split(X,y,test_size=0.2)\n",
        "\n",
        "ct.fit(X_train)\n",
        "\n",
        "X_train_norm = ct.transform(X_train)\n",
        "X_test_norm = ct.transform(X_test)\n",
        "\n",
        "im3= tf.keras.Sequential([ \n",
        "    \n",
        "    tf.keras.layers.Dense(100),\n",
        "    tf.keras.layers.Dense(10),\n",
        "    tf.keras.layers.Dense(1)\n",
        "])"
      ],
      "execution_count": null,
      "outputs": []
    },
    {
      "cell_type": "code",
      "metadata": {
        "colab": {
          "base_uri": "https://localhost:8080/"
        },
        "id": "16B5QEpSKHQk",
        "outputId": "6e53da31-54c6-4ad5-910a-97c11218ced4"
      },
      "source": [
        "im3.compile(\n",
        "    loss=mae, \n",
        "    optimizer=tf.keras.optimizers.Adam(), \n",
        "    metrics=[\"mae\"]\n",
        ")\n",
        "history_im3=im3.fit(X_train_norm,y_train,validation_split=0.3,epochs=30,verbose=0)\n",
        "\n",
        "im3.evaluate(X_test_norm,y_test)\n",
        "\n",
        "X_train.shape"
      ],
      "execution_count": null,
      "outputs": [
        {
          "output_type": "stream",
          "name": "stdout",
          "text": [
            "3/3 [==============================] - 0s 3ms/step - loss: 2255.2683 - mae: 2255.2683\n"
          ]
        },
        {
          "output_type": "execute_result",
          "data": {
            "text/plain": [
              "(266, 6)"
            ]
          },
          "metadata": {},
          "execution_count": 123
        }
      ]
    },
    {
      "cell_type": "code",
      "metadata": {
        "colab": {
          "base_uri": "https://localhost:8080/",
          "height": 295
        },
        "id": "xJcTvzK3KHQl",
        "outputId": "c73ed9ea-0205-4cef-a482-96d3dbdae805"
      },
      "source": [
        "plt.plot(history_im3.history['loss'])\n",
        "plt.plot(history_im3.history['val_loss'])\n",
        "plt.title('model loss')\n",
        "plt.ylabel('loss')\n",
        "plt.xlabel('epoch')\n",
        "plt.legend(['loss', 'val_loss'], loc='upper right')\n",
        "plt.show()"
      ],
      "execution_count": null,
      "outputs": [
        {
          "output_type": "display_data",
          "data": {
            "image/png": "[encoded data removed]",
            "text/plain": [
              "<Figure size 432x288 with 1 Axes>"
            ]
          },
          "metadata": {
            "needs_background": "light"
          }
        }
      ]
    },
    {
      "cell_type": "code",
      "metadata": {
        "id": "guqjbV23KHQl"
      },
      "source": [
        "import matplotlib as plt\n",
        "import sklearn.model_selection\n",
        "import sklearn.datasets\n",
        "import seaborn as sns"
      ],
      "execution_count": null,
      "outputs": []
    },
    {
      "cell_type": "code",
      "metadata": {
        "id": "MaY5NAx8KHQl"
      },
      "source": [
        "from tensorflow.keras.datasets import fashion_mnist\n",
        "\n",
        "(train_data, train_labels), (test_data, test_labels) = fashion_mnist.load_data()"
      ],
      "execution_count": null,
      "outputs": []
    },
    {
      "cell_type": "code",
      "metadata": {
        "colab": {
          "base_uri": "https://localhost:8080/"
        },
        "id": "SiTayIh-KHQl",
        "outputId": "90d39fdf-5a43-4b12-a767-e12a8ebf2606"
      },
      "source": [
        "print(f\"Training sample:\\n{train_data[0]}\\n\") \n",
        "print(f\"Training label: {train_labels[0]}\")"
      ],
      "execution_count": null,
      "outputs": [
        {
          "output_type": "stream",
          "name": "stdout",
          "text": [
            "Training sample:\n",
            "[[  0   0   0   0   0   0   0   0   0   0   0   0   0   0   0   0   0   0\n",
            "    0   0   0   0   0   0   0   0   0   0]\n",
            " [  0   0   0   0   0   0   0   0   0   0   0   0   0   0   0   0   0   0\n",
            "    0   0   0   0   0   0   0   0   0   0]\n",
            " [  0   0   0   0   0   0   0   0   0   0   0   0   0   0   0   0   0   0\n",
            "    0   0   0   0   0   0   0   0   0   0]\n",
            " [  0   0   0   0   0   0   0   0   0   0   0   0   1   0   0  13  73   0\n",
            "    0   1   4   0   0   0   0   1   1   0]\n",
            " [  0   0   0   0   0   0   0   0   0   0   0   0   3   0  36 136 127  62\n",
            "   54   0   0   0   1   3   4   0   0   3]\n",
            " [  0   0   0   0   0   0   0   0   0   0   0   0   6   0 102 204 176 134\n",
            "  144 123  23   0   0   0   0  12  10   0]\n",
            " [  0   0   0   0   0   0   0   0   0   0   0   0   0   0 155 236 207 178\n",
            "  107 156 161 109  64  23  77 130  72  15]\n",
            " [  0   0   0   0   0   0   0   0   0   0   0   1   0  69 207 223 218 216\n",
            "  216 163 127 121 122 146 141  88 172  66]\n",
            " [  0   0   0   0   0   0   0   0   0   1   1   1   0 200 232 232 233 229\n",
            "  223 223 215 213 164 127 123 196 229   0]\n",
            " [  0   0   0   0   0   0   0   0   0   0   0   0   0 183 225 216 223 228\n",
            "  235 227 224 222 224 221 223 245 173   0]\n",
            " [  0   0   0   0   0   0   0   0   0   0   0   0   0 193 228 218 213 198\n",
            "  180 212 210 211 213 223 220 243 202   0]\n",
            " [  0   0   0   0   0   0   0   0   0   1   3   0  12 219 220 212 218 192\n",
            "  169 227 208 218 224 212 226 197 209  52]\n",
            " [  0   0   0   0   0   0   0   0   0   0   6   0  99 244 222 220 218 203\n",
            "  198 221 215 213 222 220 245 119 167  56]\n",
            " [  0   0   0   0   0   0   0   0   0   4   0   0  55 236 228 230 228 240\n",
            "  232 213 218 223 234 217 217 209  92   0]\n",
            " [  0   0   1   4   6   7   2   0   0   0   0   0 237 226 217 223 222 219\n",
            "  222 221 216 223 229 215 218 255  77   0]\n",
            " [  0   3   0   0   0   0   0   0   0  62 145 204 228 207 213 221 218 208\n",
            "  211 218 224 223 219 215 224 244 159   0]\n",
            " [  0   0   0   0  18  44  82 107 189 228 220 222 217 226 200 205 211 230\n",
            "  224 234 176 188 250 248 233 238 215   0]\n",
            " [  0  57 187 208 224 221 224 208 204 214 208 209 200 159 245 193 206 223\n",
            "  255 255 221 234 221 211 220 232 246   0]\n",
            " [  3 202 228 224 221 211 211 214 205 205 205 220 240  80 150 255 229 221\n",
            "  188 154 191 210 204 209 222 228 225   0]\n",
            " [ 98 233 198 210 222 229 229 234 249 220 194 215 217 241  65  73 106 117\n",
            "  168 219 221 215 217 223 223 224 229  29]\n",
            " [ 75 204 212 204 193 205 211 225 216 185 197 206 198 213 240 195 227 245\n",
            "  239 223 218 212 209 222 220 221 230  67]\n",
            " [ 48 203 183 194 213 197 185 190 194 192 202 214 219 221 220 236 225 216\n",
            "  199 206 186 181 177 172 181 205 206 115]\n",
            " [  0 122 219 193 179 171 183 196 204 210 213 207 211 210 200 196 194 191\n",
            "  195 191 198 192 176 156 167 177 210  92]\n",
            " [  0   0  74 189 212 191 175 172 175 181 185 188 189 188 193 198 204 209\n",
            "  210 210 211 188 188 194 192 216 170   0]\n",
            " [  2   0   0   0  66 200 222 237 239 242 246 243 244 221 220 193 191 179\n",
            "  182 182 181 176 166 168  99  58   0   0]\n",
            " [  0   0   0   0   0   0   0  40  61  44  72  41  35   0   0   0   0   0\n",
            "    0   0   0   0   0   0   0   0   0   0]\n",
            " [  0   0   0   0   0   0   0   0   0   0   0   0   0   0   0   0   0   0\n",
            "    0   0   0   0   0   0   0   0   0   0]\n",
            " [  0   0   0   0   0   0   0   0   0   0   0   0   0   0   0   0   0   0\n",
            "    0   0   0   0   0   0   0   0   0   0]]\n",
            "\n",
            "Training label: 9\n"
          ]
        }
      ]
    },
    {
      "cell_type": "code",
      "metadata": {
        "colab": {
          "base_uri": "https://localhost:8080/"
        },
        "id": "v5PmegkzKHQm",
        "outputId": "6f1589f4-0bf5-49ed-ea8d-ba5b5fb70344"
      },
      "source": [
        "train_data.shape, train_labels.shape, test_data.shape, test_labels.shape"
      ],
      "execution_count": null,
      "outputs": [
        {
          "output_type": "execute_result",
          "data": {
            "text/plain": [
              "((60000, 28, 28), (60000,), (10000, 28, 28), (10000,))"
            ]
          },
          "metadata": {},
          "execution_count": 128
        }
      ]
    },
    {
      "cell_type": "code",
      "metadata": {
        "colab": {
          "base_uri": "https://localhost:8080/"
        },
        "id": "fEt_pkoSKHQm",
        "outputId": "79cbb472-9c88-4f6f-9750-1b86c6a4a3d2"
      },
      "source": [
        "train_data[0].shape, train_labels[0].shape"
      ],
      "execution_count": null,
      "outputs": [
        {
          "output_type": "execute_result",
          "data": {
            "text/plain": [
              "((28, 28), ())"
            ]
          },
          "metadata": {},
          "execution_count": 129
        }
      ]
    },
    {
      "cell_type": "code",
      "metadata": {
        "colab": {
          "base_uri": "https://localhost:8080/"
        },
        "id": "O-i2e9jqKHQm",
        "outputId": "b42dca0c-503f-4b29-8e3c-058fb59cb3de"
      },
      "source": [
        "train_labels[7]"
      ],
      "execution_count": null,
      "outputs": [
        {
          "output_type": "execute_result",
          "data": {
            "text/plain": [
              "2"
            ]
          },
          "metadata": {},
          "execution_count": 130
        }
      ]
    },
    {
      "cell_type": "code",
      "metadata": {
        "colab": {
          "base_uri": "https://localhost:8080/"
        },
        "id": "LNMI-1gyKHQm",
        "outputId": "2ccc556c-97f8-4949-e0d5-64cc11537a81"
      },
      "source": [
        "class_names = ['T-shirt/top', 'Trouser', 'Pullover', 'Dress', 'Coat', \n",
        "               'Sandal', 'Shirt', 'Sneaker', 'Bag', 'Ankle boot']\n",
        "len(class_names)"
      ],
      "execution_count": null,
      "outputs": [
        {
          "output_type": "execute_result",
          "data": {
            "text/plain": [
              "10"
            ]
          },
          "metadata": {},
          "execution_count": 131
        }
      ]
    },
    {
      "cell_type": "code",
      "metadata": {
        "colab": {
          "base_uri": "https://localhost:8080/"
        },
        "id": "i-y53RJoKHQn",
        "outputId": "2c1dbe61-4260-46e0-aaca-4fed13affaec"
      },
      "source": [
        "model_11 = tf.keras.Sequential([\n",
        "  tf.keras.layers.Flatten(input_shape=(28, 28)),\n",
        "  tf.keras.layers.Dense(4, activation=\"relu\"),\n",
        "  tf.keras.layers.Dense(4, activation=\"relu\"),\n",
        "  tf.keras.layers.Dense(10, activation=\"softmax\")\n",
        "])\n",
        "\n",
        "model_11.compile(loss=tf.keras.losses.SparseCategoricalCrossentropy(),\n",
        "                 optimizer=tf.keras.optimizers.Adam(),\n",
        "                 metrics=[\"accuracy\"])\n",
        "\n",
        "non_norm_history = model_11.fit(train_data,\n",
        "                                train_labels,\n",
        "                                epochs=10,\n",
        "                                validation_data=(test_data, test_labels))"
      ],
      "execution_count": null,
      "outputs": [
        {
          "output_type": "stream",
          "name": "stdout",
          "text": [
            "Epoch 1/10\n",
            "1875/1875 [==============================] - 4s 2ms/step - loss: 2.3577 - accuracy: 0.1124 - val_loss: 1.9512 - val_accuracy: 0.2022\n",
            "Epoch 2/10\n",
            "1875/1875 [==============================] - 3s 2ms/step - loss: 1.7976 - accuracy: 0.2385 - val_loss: 1.7072 - val_accuracy: 0.2763\n",
            "Epoch 3/10\n",
            "1875/1875 [==============================] - 3s 2ms/step - loss: 1.6774 - accuracy: 0.2718 - val_loss: 1.6454 - val_accuracy: 0.2814\n",
            "Epoch 4/10\n",
            "1875/1875 [==============================] - 3s 2ms/step - loss: 1.6353 - accuracy: 0.2838 - val_loss: 1.6012 - val_accuracy: 0.3277\n",
            "Epoch 5/10\n",
            "1875/1875 [==============================] - 3s 2ms/step - loss: 1.5411 - accuracy: 0.3522 - val_loss: 1.4708 - val_accuracy: 0.3617\n",
            "Epoch 6/10\n",
            "1875/1875 [==============================] - 3s 2ms/step - loss: 1.4364 - accuracy: 0.3787 - val_loss: 1.4185 - val_accuracy: 0.4011\n",
            "Epoch 7/10\n",
            "1875/1875 [==============================] - 3s 2ms/step - loss: 1.4030 - accuracy: 0.3938 - val_loss: 1.3993 - val_accuracy: 0.4103\n",
            "Epoch 8/10\n",
            "1875/1875 [==============================] - 3s 2ms/step - loss: 1.3838 - accuracy: 0.4033 - val_loss: 1.3754 - val_accuracy: 0.4055\n",
            "Epoch 9/10\n",
            "1875/1875 [==============================] - 3s 2ms/step - loss: 1.3722 - accuracy: 0.4135 - val_loss: 1.3627 - val_accuracy: 0.4266\n",
            "Epoch 10/10\n",
            "1875/1875 [==============================] - 3s 2ms/step - loss: 1.3578 - accuracy: 0.4190 - val_loss: 1.3538 - val_accuracy: 0.4303\n"
          ]
        }
      ]
    },
    {
      "cell_type": "code",
      "metadata": {
        "colab": {
          "base_uri": "https://localhost:8080/"
        },
        "id": "UlIiqBZJKHQn",
        "outputId": "c987d38d-1e97-4717-a705-b6df28883725"
      },
      "source": [
        "train_data.min(), train_data.max()\n",
        "\n",
        "train_data = train_data / 255.0\n",
        "test_data = test_data / 255.0\n",
        "\n",
        "train_data.min(), train_data.max()"
      ],
      "execution_count": null,
      "outputs": [
        {
          "output_type": "execute_result",
          "data": {
            "text/plain": [
              "(0.0, 1.0)"
            ]
          },
          "metadata": {},
          "execution_count": 133
        }
      ]
    },
    {
      "cell_type": "code",
      "metadata": {
        "colab": {
          "base_uri": "https://localhost:8080/"
        },
        "id": "yGh4tsxZKHQn",
        "outputId": "a88be87c-c261-4e86-cf50-88a754d8010d"
      },
      "source": [
        "model_12 = tf.keras.Sequential([\n",
        "  tf.keras.layers.Flatten(input_shape=(28, 28)), # input layer (we had to reshape 28x28 to 784)\n",
        "  tf.keras.layers.Dense(4, activation=\"relu\"),\n",
        "  tf.keras.layers.Dense(4, activation=\"relu\"),\n",
        "  tf.keras.layers.Dense(10, activation=\"softmax\") # output shape is 10, activation is softmax\n",
        "])\n",
        "\n",
        "model_12.compile(loss=tf.keras.losses.SparseCategoricalCrossentropy(),\n",
        "                 optimizer=tf.keras.optimizers.Adam(),\n",
        "                 metrics=[\"accuracy\"])\n",
        "\n",
        "norm_history = model_12.fit(train_data,\n",
        "                            train_labels,\n",
        "                            epochs=10,\n",
        "                            validation_data=(test_data, test_labels))"
      ],
      "execution_count": null,
      "outputs": [
        {
          "output_type": "stream",
          "name": "stdout",
          "text": [
            "Epoch 1/10\n",
            "1875/1875 [==============================] - 4s 2ms/step - loss: 1.2058 - accuracy: 0.5680 - val_loss: 0.7610 - val_accuracy: 0.7118\n",
            "Epoch 2/10\n",
            "1875/1875 [==============================] - 3s 2ms/step - loss: 0.6737 - accuracy: 0.7471 - val_loss: 0.6572 - val_accuracy: 0.7528\n",
            "Epoch 3/10\n",
            "1875/1875 [==============================] - 3s 2ms/step - loss: 0.6178 - accuracy: 0.7688 - val_loss: 0.6312 - val_accuracy: 0.7662\n",
            "Epoch 4/10\n",
            "1875/1875 [==============================] - 3s 2ms/step - loss: 0.5906 - accuracy: 0.7846 - val_loss: 0.6205 - val_accuracy: 0.7760\n",
            "Epoch 5/10\n",
            "1875/1875 [==============================] - 3s 2ms/step - loss: 0.5727 - accuracy: 0.7943 - val_loss: 0.5974 - val_accuracy: 0.7862\n",
            "Epoch 6/10\n",
            "1875/1875 [==============================] - 3s 2ms/step - loss: 0.5605 - accuracy: 0.8000 - val_loss: 0.5913 - val_accuracy: 0.7929\n",
            "Epoch 7/10\n",
            "1875/1875 [==============================] - 3s 2ms/step - loss: 0.5509 - accuracy: 0.8042 - val_loss: 0.5824 - val_accuracy: 0.7925\n",
            "Epoch 8/10\n",
            "1875/1875 [==============================] - 3s 2ms/step - loss: 0.5442 - accuracy: 0.8067 - val_loss: 0.5830 - val_accuracy: 0.7943\n",
            "Epoch 9/10\n",
            "1875/1875 [==============================] - 3s 2ms/step - loss: 0.5350 - accuracy: 0.8110 - val_loss: 0.5874 - val_accuracy: 0.7936\n",
            "Epoch 10/10\n",
            "1875/1875 [==============================] - 3s 2ms/step - loss: 0.5311 - accuracy: 0.8114 - val_loss: 0.5715 - val_accuracy: 0.7981\n"
          ]
        }
      ]
    },
    {
      "cell_type": "code",
      "metadata": {
        "colab": {
          "base_uri": "https://localhost:8080/",
          "height": 562
        },
        "id": "IodX4biNKHQn",
        "outputId": "6082798d-9862-49e2-82f9-afac775ddc16"
      },
      "source": [
        "pd.DataFrame(non_norm_history.history).plot(title=\"Non-normalized Data\")\n",
        "pd.DataFrame(norm_history.history).plot(title=\"Normalized data\")"
      ],
      "execution_count": null,
      "outputs": [
        {
          "output_type": "execute_result",
          "data": {
            "text/plain": [
              "<matplotlib.axes._subplots.AxesSubplot at 0x7f3a809ae390>"
            ]
          },
          "metadata": {},
          "execution_count": 135
        },
        {
          "output_type": "display_data",
          "data": {
            "image/png": "[encoded data removed]",
            "text/plain": [
              "<Figure size 432x288 with 1 Axes>"
            ]
          },
          "metadata": {
            "needs_background": "light"
          }
        },
        {
          "output_type": "display_data",
          "data": {
            "image/png": "[encoded data removed]",
            "text/plain": [
              "<Figure size 432x288 with 1 Axes>"
            ]
          },
          "metadata": {
            "needs_background": "light"
          }
        }
      ]
    },
    {
      "cell_type": "code",
      "metadata": {
        "colab": {
          "base_uri": "https://localhost:8080/"
        },
        "id": "5_tbEQ25KHQo",
        "outputId": "c9f32025-dae0-4e03-faf1-e59d6c091103"
      },
      "source": [
        "model_13 = tf.keras.Sequential([\n",
        "  tf.keras.layers.Flatten(input_shape=(28, 28)), # input layer (we had to reshape 28x28 to 784)\n",
        "  tf.keras.layers.Dense(4, activation=\"relu\"),\n",
        "  tf.keras.layers.Dense(4, activation=\"relu\"),\n",
        "  tf.keras.layers.Dense(10, activation=\"softmax\") # output shape is 10, activation is softmax\n",
        "])\n",
        "\n",
        "model_13.compile(loss=tf.keras.losses.SparseCategoricalCrossentropy(),\n",
        "                 optimizer=tf.keras.optimizers.Adam(),\n",
        "                 metrics=[\"accuracy\"])\n",
        "\n",
        "lr_scheduler = tf.keras.callbacks.LearningRateScheduler(lambda epoch: 1e-3 * 10**(epoch/20))\n",
        "\n",
        "find_lr_history = model_13.fit(train_data,\n",
        "                               train_labels,\n",
        "                               epochs=40, # model already doing pretty good with current LR, probably don't need 100 epochs\n",
        "                               validation_data=(test_data, test_labels),\n",
        "                               callbacks=[lr_scheduler])"
      ],
      "execution_count": null,
      "outputs": [
        {
          "output_type": "stream",
          "name": "stdout",
          "text": [
            "Epoch 1/40\n",
            "1875/1875 [==============================] - 4s 2ms/step - loss: 1.1182 - accuracy: 0.5727 - val_loss: 0.7753 - val_accuracy: 0.7271\n",
            "Epoch 2/40\n",
            "1875/1875 [==============================] - 3s 2ms/step - loss: 0.7052 - accuracy: 0.7526 - val_loss: 0.6814 - val_accuracy: 0.7629\n",
            "Epoch 3/40\n",
            "1875/1875 [==============================] - 3s 2ms/step - loss: 0.6453 - accuracy: 0.7749 - val_loss: 0.6576 - val_accuracy: 0.7708\n",
            "Epoch 4/40\n",
            "1875/1875 [==============================] - 3s 2ms/step - loss: 0.6175 - accuracy: 0.7836 - val_loss: 0.6414 - val_accuracy: 0.7748\n",
            "Epoch 5/40\n",
            "1875/1875 [==============================] - 3s 2ms/step - loss: 0.6021 - accuracy: 0.7899 - val_loss: 0.6274 - val_accuracy: 0.7826\n",
            "Epoch 6/40\n",
            "1875/1875 [==============================] - 3s 2ms/step - loss: 0.5926 - accuracy: 0.7941 - val_loss: 0.6199 - val_accuracy: 0.7903\n",
            "Epoch 7/40\n",
            "1875/1875 [==============================] - 3s 2ms/step - loss: 0.5868 - accuracy: 0.7963 - val_loss: 0.6275 - val_accuracy: 0.7865\n",
            "Epoch 8/40\n",
            "1875/1875 [==============================] - 3s 2ms/step - loss: 0.5822 - accuracy: 0.7984 - val_loss: 0.6214 - val_accuracy: 0.7883\n",
            "Epoch 9/40\n",
            "1875/1875 [==============================] - 3s 2ms/step - loss: 0.5733 - accuracy: 0.8017 - val_loss: 0.6396 - val_accuracy: 0.7857\n",
            "Epoch 10/40\n",
            "1875/1875 [==============================] - 3s 2ms/step - loss: 0.5707 - accuracy: 0.8025 - val_loss: 0.5920 - val_accuracy: 0.7981\n",
            "Epoch 11/40\n",
            "1875/1875 [==============================] - 3s 2ms/step - loss: 0.5658 - accuracy: 0.8043 - val_loss: 0.6026 - val_accuracy: 0.7953\n",
            "Epoch 12/40\n",
            "1875/1875 [==============================] - 3s 2ms/step - loss: 0.5622 - accuracy: 0.8064 - val_loss: 0.6275 - val_accuracy: 0.7928\n",
            "Epoch 13/40\n",
            "1875/1875 [==============================] - 3s 2ms/step - loss: 0.5575 - accuracy: 0.8089 - val_loss: 0.6076 - val_accuracy: 0.7958\n",
            "Epoch 14/40\n",
            "1875/1875 [==============================] - 3s 2ms/step - loss: 0.5565 - accuracy: 0.8107 - val_loss: 0.5945 - val_accuracy: 0.7913\n",
            "Epoch 15/40\n",
            "1875/1875 [==============================] - 3s 2ms/step - loss: 0.5526 - accuracy: 0.8101 - val_loss: 0.5812 - val_accuracy: 0.8065\n",
            "Epoch 16/40\n",
            "1875/1875 [==============================] - 3s 2ms/step - loss: 0.5529 - accuracy: 0.8110 - val_loss: 0.5813 - val_accuracy: 0.8093\n",
            "Epoch 17/40\n",
            "1875/1875 [==============================] - 3s 2ms/step - loss: 0.5480 - accuracy: 0.8133 - val_loss: 0.6078 - val_accuracy: 0.7970\n",
            "Epoch 18/40\n",
            "1875/1875 [==============================] - 3s 2ms/step - loss: 0.5503 - accuracy: 0.8097 - val_loss: 0.5753 - val_accuracy: 0.8148\n",
            "Epoch 19/40\n",
            "1875/1875 [==============================] - 3s 2ms/step - loss: 0.5515 - accuracy: 0.8113 - val_loss: 0.5731 - val_accuracy: 0.8119\n",
            "Epoch 20/40\n",
            "1875/1875 [==============================] - 3s 2ms/step - loss: 0.5554 - accuracy: 0.8109 - val_loss: 0.6543 - val_accuracy: 0.7803\n",
            "Epoch 21/40\n",
            "1875/1875 [==============================] - 3s 2ms/step - loss: 0.5595 - accuracy: 0.8098 - val_loss: 0.6417 - val_accuracy: 0.7797\n",
            "Epoch 22/40\n",
            "1875/1875 [==============================] - 3s 2ms/step - loss: 0.5580 - accuracy: 0.8094 - val_loss: 0.5991 - val_accuracy: 0.8111\n",
            "Epoch 23/40\n",
            "1875/1875 [==============================] - 3s 2ms/step - loss: 0.5663 - accuracy: 0.8073 - val_loss: 0.5777 - val_accuracy: 0.8024\n",
            "Epoch 24/40\n",
            "1875/1875 [==============================] - 3s 2ms/step - loss: 0.5714 - accuracy: 0.8057 - val_loss: 0.5733 - val_accuracy: 0.8073\n",
            "Epoch 25/40\n",
            "1875/1875 [==============================] - 3s 2ms/step - loss: 0.5737 - accuracy: 0.8056 - val_loss: 0.6753 - val_accuracy: 0.7685\n",
            "Epoch 26/40\n",
            "1875/1875 [==============================] - 3s 2ms/step - loss: 0.5765 - accuracy: 0.8067 - val_loss: 0.5925 - val_accuracy: 0.8084\n",
            "Epoch 27/40\n",
            "1875/1875 [==============================] - 3s 2ms/step - loss: 0.5860 - accuracy: 0.8035 - val_loss: 0.6396 - val_accuracy: 0.7839\n",
            "Epoch 28/40\n",
            "1875/1875 [==============================] - 3s 2ms/step - loss: 0.5977 - accuracy: 0.8009 - val_loss: 0.5994 - val_accuracy: 0.7999\n",
            "Epoch 29/40\n",
            "1875/1875 [==============================] - 3s 2ms/step - loss: 0.6104 - accuracy: 0.7976 - val_loss: 0.6347 - val_accuracy: 0.7863\n",
            "Epoch 30/40\n",
            "1875/1875 [==============================] - 3s 2ms/step - loss: 0.6364 - accuracy: 0.7894 - val_loss: 0.6457 - val_accuracy: 0.7904\n",
            "Epoch 31/40\n",
            "1875/1875 [==============================] - 3s 2ms/step - loss: 0.6612 - accuracy: 0.7845 - val_loss: 0.7088 - val_accuracy: 0.7903\n",
            "Epoch 32/40\n",
            "1875/1875 [==============================] - 3s 2ms/step - loss: 0.6776 - accuracy: 0.7792 - val_loss: 0.6647 - val_accuracy: 0.7964\n",
            "Epoch 33/40\n",
            "1875/1875 [==============================] - 3s 2ms/step - loss: 0.7361 - accuracy: 0.7602 - val_loss: 0.7713 - val_accuracy: 0.7399\n",
            "Epoch 34/40\n",
            "1875/1875 [==============================] - 3s 2ms/step - loss: 0.7561 - accuracy: 0.7549 - val_loss: 0.7749 - val_accuracy: 0.7850\n",
            "Epoch 35/40\n",
            "1875/1875 [==============================] - 3s 2ms/step - loss: 0.8635 - accuracy: 0.7079 - val_loss: 0.8724 - val_accuracy: 0.6864\n",
            "Epoch 36/40\n",
            "1875/1875 [==============================] - 3s 2ms/step - loss: 0.9036 - accuracy: 0.6816 - val_loss: 1.0327 - val_accuracy: 0.6202\n",
            "Epoch 37/40\n",
            "1875/1875 [==============================] - 3s 2ms/step - loss: 1.1506 - accuracy: 0.5675 - val_loss: 1.3156 - val_accuracy: 0.5102\n",
            "Epoch 38/40\n",
            "1875/1875 [==============================] - 3s 2ms/step - loss: 1.1921 - accuracy: 0.5214 - val_loss: 1.3144 - val_accuracy: 0.4525\n",
            "Epoch 39/40\n",
            "1875/1875 [==============================] - 3s 2ms/step - loss: 1.4063 - accuracy: 0.4254 - val_loss: 1.4782 - val_accuracy: 0.3934\n",
            "Epoch 40/40\n",
            "1875/1875 [==============================] - 3s 2ms/step - loss: 1.8477 - accuracy: 0.2632 - val_loss: 1.7894 - val_accuracy: 0.1996\n"
          ]
        }
      ]
    },
    {
      "cell_type": "code",
      "metadata": {
        "colab": {
          "base_uri": "https://localhost:8080/",
          "height": 316
        },
        "id": "lj-LNzOrKHQo",
        "outputId": "2a592329-07e3-4aa5-81b5-fb00160e8395"
      },
      "source": [
        "import numpy as np\n",
        "import matplotlib.pyplot as plt\n",
        "lrs = 1e-3 * (10**(np.arange(40)/20))\n",
        "plt.semilogx(lrs, find_lr_history.history[\"loss\"])\n",
        "plt.xlabel(\"Learning rate\")\n",
        "plt.ylabel(\"Loss\")\n",
        "plt.title(\"Finding the ideal learning rate\")"
      ],
      "execution_count": null,
      "outputs": [
        {
          "output_type": "execute_result",
          "data": {
            "text/plain": [
              "Text(0.5, 1.0, 'Finding the ideal learning rate')"
            ]
          },
          "metadata": {},
          "execution_count": 137
        },
        {
          "output_type": "display_data",
          "data": {
            "image/png": "[encoded data removed]",
            "text/plain": [
              "<Figure size 432x288 with 1 Axes>"
            ]
          },
          "metadata": {
            "needs_background": "light"
          }
        }
      ]
    },
    {
      "cell_type": "code",
      "metadata": {
        "colab": {
          "base_uri": "https://localhost:8080/"
        },
        "id": "bStXRLGFKHQo",
        "outputId": "03cc0ccd-be1b-4d92-c6e7-d98001f235e0"
      },
      "source": [
        "model_14 = tf.keras.Sequential([\n",
        "  tf.keras.layers.Flatten(input_shape=(28, 28)), # input layer (we had to reshape 28x28 to 784)\n",
        "  tf.keras.layers.Dense(4, activation=\"relu\"),\n",
        "  tf.keras.layers.Dense(4, activation=\"relu\"),\n",
        "  tf.keras.layers.Dense(10, activation=\"softmax\") # output shape is 10, activation is softmax\n",
        "])\n",
        "\n",
        "model_14.compile(loss=tf.keras.losses.SparseCategoricalCrossentropy(),\n",
        "                 optimizer=tf.keras.optimizers.Adam(learning_rate=0.001), # ideal learning rate (same as default)\n",
        "                 metrics=[\"accuracy\"])\n",
        "\n",
        "history = model_14.fit(train_data,\n",
        "                       train_labels,\n",
        "                       epochs=20,\n",
        "                       validation_data=(test_data, test_labels))"
      ],
      "execution_count": null,
      "outputs": [
        {
          "output_type": "stream",
          "name": "stdout",
          "text": [
            "Epoch 1/20\n",
            "1875/1875 [==============================] - 4s 2ms/step - loss: 1.5604 - accuracy: 0.3614 - val_loss: 1.2691 - val_accuracy: 0.4626\n",
            "Epoch 2/20\n",
            "1875/1875 [==============================] - 3s 2ms/step - loss: 1.0964 - accuracy: 0.5461 - val_loss: 0.9637 - val_accuracy: 0.5850\n",
            "Epoch 3/20\n",
            "1875/1875 [==============================] - 3s 2ms/step - loss: 0.9256 - accuracy: 0.6101 - val_loss: 0.9220 - val_accuracy: 0.6177\n",
            "Epoch 4/20\n",
            "1875/1875 [==============================] - 3s 2ms/step - loss: 0.8926 - accuracy: 0.6219 - val_loss: 0.8995 - val_accuracy: 0.6333\n",
            "Epoch 5/20\n",
            "1875/1875 [==============================] - 3s 2ms/step - loss: 0.8142 - accuracy: 0.6741 - val_loss: 0.7865 - val_accuracy: 0.7201\n",
            "Epoch 6/20\n",
            "1875/1875 [==============================] - 3s 2ms/step - loss: 0.7121 - accuracy: 0.7498 - val_loss: 0.7335 - val_accuracy: 0.7445\n",
            "Epoch 7/20\n",
            "1875/1875 [==============================] - 3s 2ms/step - loss: 0.6746 - accuracy: 0.7638 - val_loss: 0.7048 - val_accuracy: 0.7556\n",
            "Epoch 8/20\n",
            "1875/1875 [==============================] - 3s 2ms/step - loss: 0.6554 - accuracy: 0.7695 - val_loss: 0.6851 - val_accuracy: 0.7641\n",
            "Epoch 9/20\n",
            "1875/1875 [==============================] - 3s 2ms/step - loss: 0.6416 - accuracy: 0.7746 - val_loss: 0.6811 - val_accuracy: 0.7635\n",
            "Epoch 10/20\n",
            "1875/1875 [==============================] - 3s 2ms/step - loss: 0.6329 - accuracy: 0.7772 - val_loss: 0.6690 - val_accuracy: 0.7693\n",
            "Epoch 11/20\n",
            "1875/1875 [==============================] - 3s 2ms/step - loss: 0.6244 - accuracy: 0.7794 - val_loss: 0.6630 - val_accuracy: 0.7707\n",
            "Epoch 12/20\n",
            "1875/1875 [==============================] - 3s 2ms/step - loss: 0.6181 - accuracy: 0.7805 - val_loss: 0.6586 - val_accuracy: 0.7709\n",
            "Epoch 13/20\n",
            "1875/1875 [==============================] - 3s 2ms/step - loss: 0.6135 - accuracy: 0.7825 - val_loss: 0.6691 - val_accuracy: 0.7694\n",
            "Epoch 14/20\n",
            "1875/1875 [==============================] - 3s 2ms/step - loss: 0.6108 - accuracy: 0.7829 - val_loss: 0.6475 - val_accuracy: 0.7760\n",
            "Epoch 15/20\n",
            "1875/1875 [==============================] - 3s 2ms/step - loss: 0.6056 - accuracy: 0.7839 - val_loss: 0.6498 - val_accuracy: 0.7749\n",
            "Epoch 16/20\n",
            "1875/1875 [==============================] - 3s 2ms/step - loss: 0.6018 - accuracy: 0.7851 - val_loss: 0.6536 - val_accuracy: 0.7719\n",
            "Epoch 17/20\n",
            "1875/1875 [==============================] - 3s 2ms/step - loss: 0.5992 - accuracy: 0.7852 - val_loss: 0.6511 - val_accuracy: 0.7752\n",
            "Epoch 18/20\n",
            "1875/1875 [==============================] - 3s 2ms/step - loss: 0.5967 - accuracy: 0.7872 - val_loss: 0.6707 - val_accuracy: 0.7680\n",
            "Epoch 19/20\n",
            "1875/1875 [==============================] - 3s 2ms/step - loss: 0.5939 - accuracy: 0.7876 - val_loss: 0.6458 - val_accuracy: 0.7764\n",
            "Epoch 20/20\n",
            "1875/1875 [==============================] - 3s 2ms/step - loss: 0.5931 - accuracy: 0.7873 - val_loss: 0.6404 - val_accuracy: 0.7768\n"
          ]
        }
      ]
    },
    {
      "cell_type": "code",
      "metadata": {
        "colab": {
          "base_uri": "https://localhost:8080/"
        },
        "id": "HQbBeu32KHQo",
        "outputId": "1d052324-d411-485d-92fe-a3c08fae4e10"
      },
      "source": [
        "y_probs = model_14.predict(test_data)\n",
        "\n",
        "y_probs[:5]"
      ],
      "execution_count": null,
      "outputs": [
        {
          "output_type": "execute_result",
          "data": {
            "text/plain": [
              "array([[1.1174486e-08, 6.4949688e-22, 1.2616249e-13, 5.1133651e-07,\n",
              "        2.0181294e-09, 1.3597256e-01, 1.9048073e-08, 5.5695474e-02,\n",
              "        4.7011298e-04, 8.0786121e-01],\n",
              "       [3.7675600e-02, 1.1438950e-05, 7.4422646e-01, 4.8360607e-04,\n",
              "        3.7420005e-02, 2.6079049e-04, 1.7779231e-01, 9.5526382e-05,\n",
              "        2.0336143e-03, 7.3366499e-07],\n",
              "       [1.5998710e-03, 9.9655032e-01, 5.5456577e-11, 1.8325528e-03,\n",
              "        2.0210328e-10, 1.2167938e-05, 3.7769192e-07, 2.9822207e-09,\n",
              "        2.6842061e-08, 4.7158237e-06],\n",
              "       [4.9131643e-04, 9.9853373e-01, 1.9397192e-12, 9.6653635e-04,\n",
              "        1.2341423e-11, 4.8325614e-06, 4.2263412e-08, 5.7904304e-10,\n",
              "        4.5920516e-09, 3.4203347e-06],\n",
              "       [4.5901442e-01, 2.6170369e-03, 1.6836959e-01, 1.6327158e-02,\n",
              "        2.2522444e-02, 3.3129014e-03, 3.2232529e-01, 3.0588309e-04,\n",
              "        5.1781838e-03, 2.7134873e-05]], dtype=float32)"
            ]
          },
          "metadata": {},
          "execution_count": 139
        }
      ]
    },
    {
      "cell_type": "code",
      "metadata": {
        "colab": {
          "base_uri": "https://localhost:8080/"
        },
        "id": "lcpPQoALKHQo",
        "outputId": "d79c81ef-a6b0-4a03-efe5-b58644b74b3f"
      },
      "source": [
        "y_probs[0].argmax(), class_names[y_probs[0].argmax()]"
      ],
      "execution_count": null,
      "outputs": [
        {
          "output_type": "execute_result",
          "data": {
            "text/plain": [
              "(9, 'Ankle boot')"
            ]
          },
          "metadata": {},
          "execution_count": 140
        }
      ]
    },
    {
      "cell_type": "code",
      "metadata": {
        "colab": {
          "base_uri": "https://localhost:8080/"
        },
        "id": "zzsokUAAKHQp",
        "outputId": "d0419ec4-0ac7-4679-ec0b-7352af168374"
      },
      "source": [
        "y_preds = y_probs.argmax(axis=1)\n",
        "\n",
        "y_preds[:10]"
      ],
      "execution_count": null,
      "outputs": [
        {
          "output_type": "execute_result",
          "data": {
            "text/plain": [
              "array([9, 2, 1, 1, 0, 1, 4, 4, 5, 7])"
            ]
          },
          "metadata": {},
          "execution_count": 141
        }
      ]
    },
    {
      "cell_type": "code",
      "metadata": {
        "colab": {
          "base_uri": "https://localhost:8080/"
        },
        "id": "vacddEwAKHQp",
        "outputId": "fb1bf68c-ee19-4460-98b9-00d424142a1b"
      },
      "source": [
        "from sklearn.metrics import confusion_matrix\n",
        "confusion_matrix(y_true=test_labels, \n",
        "                 y_pred=y_preds)"
      ],
      "execution_count": null,
      "outputs": [
        {
          "output_type": "execute_result",
          "data": {
            "text/plain": [
              "array([[801,   2,  45,  75,  20,   1,  46,   0,  10,   0],\n",
              "       [ 21, 927,   6,  34,   5,   0,   7,   0,   0,   0],\n",
              "       [ 34,   0, 696,  15, 210,   0,  38,   0,   7,   0],\n",
              "       [ 63,   8,  10, 793,  79,   0,  38,   0,   9,   0],\n",
              "       [  2,   0, 155,  32, 771,   0,  29,   0,  11,   0],\n",
              "       [  0,   0,   0,   3,   1, 925,   1,  43,   1,  26],\n",
              "       [189,   1, 207,  45, 422,   0, 122,   0,  14,   0],\n",
              "       [  0,   0,   0,   0,   0,  46,   0, 922,   0,  32],\n",
              "       [  2,   0,  11,  12,  65,   3,   5,   9, 889,   4],\n",
              "       [  0,   0,   0,   8,   0,  29,   1,  36,   4, 922]])"
            ]
          },
          "metadata": {},
          "execution_count": 142
        }
      ]
    },
    {
      "cell_type": "code",
      "metadata": {
        "id": "Q8xKdoVgKHQp"
      },
      "source": [
        "import random\n",
        "def plot_random_image(model, images, true_labels, classes):\n",
        "  i = random.randint(0, len(images))\n",
        "  \n",
        "  target_image = images[i]\n",
        "  pred_probs = model.predict(target_image.reshape(1, 28, 28))\n",
        "  pred_label = classes[pred_probs.argmax()]\n",
        "  true_label = classes[true_labels[i]]\n",
        "\n",
        "  plt.imshow(target_image, cmap=plt.cm.binary)\n",
        "  if pred_label == true_label:\n",
        "    color = \"green\"\n",
        "  else:\n",
        "    color = \"red\"\n",
        "\n",
        "  plt.xlabel(\"Pred: {} {:2.0f}% (True: {})\".format(pred_label,\n",
        "                                                   100*tf.reduce_max(pred_probs),\n",
        "                                                   true_label),\n",
        "             color=color)"
      ],
      "execution_count": null,
      "outputs": []
    },
    {
      "cell_type": "code",
      "metadata": {
        "colab": {
          "base_uri": "https://localhost:8080/"
        },
        "id": "Hyk5JGWoKHQp",
        "outputId": "0f2da625-1e30-4159-dbd3-7563c50142f9"
      },
      "source": [
        "model_14.layers"
      ],
      "execution_count": null,
      "outputs": [
        {
          "output_type": "execute_result",
          "data": {
            "text/plain": [
              "[<keras.layers.core.Flatten at 0x7f3a84b6d490>,\n",
              " <keras.layers.core.Dense at 0x7f3a84b6d0d0>,\n",
              " <keras.layers.core.Dense at 0x7f3a87b8a310>,\n",
              " <keras.layers.core.Dense at 0x7f3a88cb4450>]"
            ]
          },
          "metadata": {},
          "execution_count": 144
        }
      ]
    },
    {
      "cell_type": "code",
      "metadata": {
        "colab": {
          "base_uri": "https://localhost:8080/"
        },
        "id": "zXFdft-CKHQp",
        "outputId": "3c02c9cd-9e4b-410e-c2f8-2c9850423390"
      },
      "source": [
        "weights, biases = model_14.layers[1].get_weights()\n",
        "\n",
        "weights, weights.shape"
      ],
      "execution_count": null,
      "outputs": [
        {
          "output_type": "execute_result",
          "data": {
            "text/plain": [
              "(array([[-0.0707681 ,  0.39338773, -0.07155726, -0.53593034],\n",
              "        [ 0.62015647,  0.56768644,  0.36613598, -0.31550515],\n",
              "        [ 0.5805089 , -0.3042451 ,  0.53441983, -0.8899578 ],\n",
              "        ...,\n",
              "        [ 0.13956186,  0.53869915,  0.28916803, -0.27927038],\n",
              "        [-0.41719392,  0.77267724,  0.2981089 , -0.07036553],\n",
              "        [-0.61070853,  0.49501845, -0.2643993 ,  0.11550435]],\n",
              "       dtype=float32), (784, 4))"
            ]
          },
          "metadata": {},
          "execution_count": 145
        }
      ]
    },
    {
      "cell_type": "code",
      "metadata": {
        "colab": {
          "base_uri": "https://localhost:8080/"
        },
        "id": "crf5sJjfKHQq",
        "outputId": "894a41e6-fd85-4215-a029-0a6cc8418640"
      },
      "source": [
        "biases, biases.shape"
      ],
      "execution_count": null,
      "outputs": [
        {
          "output_type": "execute_result",
          "data": {
            "text/plain": [
              "(array([2.3173866, 2.8882787, 0.5393872, 1.5830705], dtype=float32), (4,))"
            ]
          },
          "metadata": {},
          "execution_count": 146
        }
      ]
    },
    {
      "cell_type": "code",
      "metadata": {
        "colab": {
          "base_uri": "https://localhost:8080/"
        },
        "id": "QGXlBupRKHQq",
        "outputId": "07e352df-04c0-43de-df5a-44919bca941f"
      },
      "source": [
        "model_14.summary()"
      ],
      "execution_count": null,
      "outputs": [
        {
          "output_type": "stream",
          "name": "stdout",
          "text": [
            "Model: \"sequential_17\"\n",
            "_________________________________________________________________\n",
            "Layer (type)                 Output Shape              Param #   \n",
            "=================================================================\n",
            "flatten_11 (Flatten)         (None, 784)               0         \n",
            "_________________________________________________________________\n",
            "dense_48 (Dense)             (None, 4)                 3140      \n",
            "_________________________________________________________________\n",
            "dense_49 (Dense)             (None, 4)                 20        \n",
            "_________________________________________________________________\n",
            "dense_50 (Dense)             (None, 10)                50        \n",
            "=================================================================\n",
            "Total params: 3,210\n",
            "Trainable params: 3,210\n",
            "Non-trainable params: 0\n",
            "_________________________________________________________________\n"
          ]
        }
      ]
    },
    {
      "cell_type": "markdown",
      "metadata": {
        "id": "D0vRJUwlKhkC"
      },
      "source": [
        "#2.  Отримані результати викласти на github у репозиторій ml2021 в основну (default) гілку в папці Lab5."
      ]
    }
  ]
}