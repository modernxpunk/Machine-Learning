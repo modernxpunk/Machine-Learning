{
  "nbformat": 4,
  "nbformat_minor": 0,
  "metadata": {
    "colab": {
      "name": "main.ipynb",
      "provenance": [],
      "collapsed_sections": []
    },
    "kernelspec": {
      "name": "python3",
      "display_name": "Python 3"
    },
    "language_info": {
      "name": "python"
    }
  },
  "cells": [
    {
      "cell_type": "markdown",
      "metadata": {
        "id": "Gf6acQynM22p"
      },
      "source": [
        "# **Практична робота №2**"
      ]
    },
    {
      "cell_type": "code",
      "metadata": {
        "id": "3zbCM4Uj5oUR"
      },
      "source": [
        "import pandas as pd\n",
        "import numpy as np\n",
        "import matplotlib.pyplot as plt\n",
        "from sklearn.linear_model import LinearRegression"
      ],
      "execution_count": 111,
      "outputs": []
    },
    {
      "cell_type": "code",
      "metadata": {
        "id": "xQc7JnpF5yRh"
      },
      "source": [
        "data_train = pd.read_csv('./train.csv')\n",
        "data_test = pd.read_csv('./test.csv')\n",
        "X_train, y_train, X_test, y_test = np.array(data_train['X']).reshape((-1, 1)), data_train['y'], np.array(data_test['X']).reshape((-1, 1)), data_test['y']"
      ],
      "execution_count": 112,
      "outputs": []
    },
    {
      "cell_type": "code",
      "metadata": {
        "id": "bdIG6MDw6ZSl"
      },
      "source": [
        "model = LinearRegression()\n",
        "model.fit(X_train, y_train)\n",
        "y_test = model.predict(X_test)"
      ],
      "execution_count": 113,
      "outputs": []
    },
    {
      "cell_type": "code",
      "metadata": {
        "colab": {
          "base_uri": "https://localhost:8080/",
          "height": 282
        },
        "id": "rb08UYUU9_VK",
        "outputId": "8e084bab-c9aa-429a-8d9e-5790c1f0138f"
      },
      "source": [
        "plt.scatter(data_train['X'], data_train['y'], label=\"train\")\n",
        "plt.scatter(X_test, y_test, label=\"test\")\n",
        "plt.legend()"
      ],
      "execution_count": 116,
      "outputs": [
        {
          "output_type": "execute_result",
          "data": {
            "text/plain": [
              "<matplotlib.legend.Legend at 0x7fb1a2506210>"
            ]
          },
          "metadata": {},
          "execution_count": 116
        },
        {
          "output_type": "display_data",
          "data": {
            "image/png": "[encoded data removed]",
            "text/plain": [
              "<Figure size 432x288 with 1 Axes>"
            ]
          },
          "metadata": {
            "needs_background": "light"
          }
        }
      ]
    },
    {
      "cell_type": "code",
      "metadata": {
        "id": "JidUwa2uBEmw"
      },
      "source": [
        "data_test['X'] = np.round(data_test['X'], 2)\n",
        "data_test['y'] = y_test\n",
        "data_test.to_csv('answer.csv', index=False)"
      ],
      "execution_count": 115,
      "outputs": []
    }
  ]
}